{
 "cells": [
  {
   "cell_type": "markdown",
   "metadata": {},
   "source": [
    "# Permutation Feature Importance"
   ]
  },
  {
   "cell_type": "code",
   "execution_count": 88,
   "metadata": {
    "colab": {
     "base_uri": "https://localhost:8080/"
    },
    "executionInfo": {
     "elapsed": 4510,
     "status": "ok",
     "timestamp": 1634764574467,
     "user": {
      "displayName": "Michael Munn",
      "photoUrl": "https://lh3.googleusercontent.com/a-/AOh14GivHrWyoK0fJLce2lJeBhchloxeOvcQjFRbZWiBNUZhpU6Ew9kwGSX2oGJ-LfrpnWAYCysd2aEN0ucrY7AFliHoHVSUbITFW_kxrAvckr0ER_wB6H_q_jPddyfynoZI7nUeXBd71bLxU4oUA0fBwdrRj-mjJjx69d80e4H-3h3RpH5KGy8Cadcgl8seAiEdHJrih_qTKd3wvTzuXm_i1DFLTcWPl98WrsxHOphrnp7OFfCH14FzpTElUqPBiogSBlbzU1mEaV70VZE9NHnvJlI8ASIWeNSgIg-oC1Fx_xIZZHTHto7OIeDwcgfAzoN1LDJ_yAFswm8yj9wPhXlasfGoJFOkN3lUNZKSCQTiQEwqcKHzACzwlh2bteaC8_G63RJBBv7yEBglZu4KoSRS5-pKarUaN14paTtYm_eht6UIdDS9Y_45ay3EbhkQYwYW1o-rjQPo3v962TDt0wKPprXF9q0ZcmSAPCrL1-FW3NR4ZPho6AEnf554oksi6frVtboN1NpoSvBeOH6WE8vsQsvX8jcCxKFxOE1JQshtbmf7iQMSVhA7D-FbX2vhYnlXg2sDyL-FC3uDTJC0M1gItxXDZbf6muUtJjcGVM5GgELkki2MWRHWHnhzuZJKZCHooH886MQmnxkEx4UfFOq7odEPRPLfo7du63uKB5ww-fyLT4aYUmQJbw-8tTf_ZQzesZi91hAIjc04PRxgxVUPtAeMdEuvJXbB-mULE7YgveHAb_xLM3b5CILFRLZSl4gEqskpyw=s64",
      "userId": "16711783934034114260"
     },
     "user_tz": 240
    },
    "id": "Muuu7405iiXk",
    "outputId": "92beba97-de2c-4ba7-caca-c971fb75de49"
   },
   "outputs": [
    {
     "name": "stdout",
     "output_type": "stream",
     "text": [
      "2.3.4\n"
     ]
    }
   ],
   "source": [
    "import tensorflow as tf\n",
    "\n",
    "# Commonly used modules\n",
    "import numpy as np\n",
    "import os\n",
    "import sys\n",
    "\n",
    "# Images, plots, display, and visualization\n",
    "import matplotlib.pyplot as plt\n",
    "import pandas as pd\n",
    "import seaborn as sns\n",
    "import IPython\n",
    "from six.moves import urllib\n",
    "\n",
    "from sklearn.model_selection import train_test_split\n",
    "from sklearn.neural_network import MLPRegressor, MLPClassifier\n",
    "from sklearn.compose import ColumnTransformer\n",
    "from sklearn.preprocessing import OneHotEncoder, MinMaxScaler\n",
    "from sklearn.pipeline import Pipeline\n",
    "\n",
    "\n",
    "print(tf.__version__)"
   ]
  },
  {
   "cell_type": "code",
   "execution_count": 89,
   "metadata": {
    "colab": {
     "base_uri": "https://localhost:8080/",
     "height": 467
    },
    "executionInfo": {
     "elapsed": 852,
     "status": "ok",
     "timestamp": 1634764576193,
     "user": {
      "displayName": "Michael Munn",
      "photoUrl": "https://lh3.googleusercontent.com/a-/AOh14GivHrWyoK0fJLce2lJeBhchloxeOvcQjFRbZWiBNUZhpU6Ew9kwGSX2oGJ-LfrpnWAYCysd2aEN0ucrY7AFliHoHVSUbITFW_kxrAvckr0ER_wB6H_q_jPddyfynoZI7nUeXBd71bLxU4oUA0fBwdrRj-mjJjx69d80e4H-3h3RpH5KGy8Cadcgl8seAiEdHJrih_qTKd3wvTzuXm_i1DFLTcWPl98WrsxHOphrnp7OFfCH14FzpTElUqPBiogSBlbzU1mEaV70VZE9NHnvJlI8ASIWeNSgIg-oC1Fx_xIZZHTHto7OIeDwcgfAzoN1LDJ_yAFswm8yj9wPhXlasfGoJFOkN3lUNZKSCQTiQEwqcKHzACzwlh2bteaC8_G63RJBBv7yEBglZu4KoSRS5-pKarUaN14paTtYm_eht6UIdDS9Y_45ay3EbhkQYwYW1o-rjQPo3v962TDt0wKPprXF9q0ZcmSAPCrL1-FW3NR4ZPho6AEnf554oksi6frVtboN1NpoSvBeOH6WE8vsQsvX8jcCxKFxOE1JQshtbmf7iQMSVhA7D-FbX2vhYnlXg2sDyL-FC3uDTJC0M1gItxXDZbf6muUtJjcGVM5GgELkki2MWRHWHnhzuZJKZCHooH886MQmnxkEx4UfFOq7odEPRPLfo7du63uKB5ww-fyLT4aYUmQJbw-8tTf_ZQzesZi91hAIjc04PRxgxVUPtAeMdEuvJXbB-mULE7YgveHAb_xLM3b5CILFRLZSl4gEqskpyw=s64",
      "userId": "16711783934034114260"
     },
     "user_tz": 240
    },
    "id": "-AaFZOvtAval",
    "outputId": "be450214-9348-4bda-e240-8780350ad4b6"
   },
   "outputs": [],
   "source": [
    "(train_features, train_labels), (test_features, test_labels) = tf.keras.datasets.boston_housing.load_data()\n",
    "features = [('CRIM', 'crime_rate'), ('ZN', 'residential_zone'),\n",
    "            ('INDUS', 'prop_non-retail'), ('CHAS', 'river_adjacent'),\n",
    "            ('NOX', 'NO_concentration'), ('RM', 'avg_rooms'),\n",
    "            ('AGE', 'age'), ('DIS', 'employment_proximit'),\n",
    "            ('RAD', 'radial_highways'), ('TAX', 'tax_rate'),\n",
    "            ('PTRATIO', 'pupil-teacher_ratio'), ('B', 'prop_black'),\n",
    "            ('LSTAT', 'lower_status_pop')]\n",
    "df_train_features = pd.DataFrame(train_features, columns=[feature[0] for feature in features])\n",
    "df_train_labels = pd.DataFrame({'MEDV': train_labels})\n",
    "df = pd.concat((df_train_features, df_train_labels), axis=1)"
   ]
  },
  {
   "cell_type": "code",
   "execution_count": 90,
   "metadata": {
    "executionInfo": {
     "elapsed": 220,
     "status": "ok",
     "timestamp": 1634764579363,
     "user": {
      "displayName": "Michael Munn",
      "photoUrl": "https://lh3.googleusercontent.com/a-/AOh14GivHrWyoK0fJLce2lJeBhchloxeOvcQjFRbZWiBNUZhpU6Ew9kwGSX2oGJ-LfrpnWAYCysd2aEN0ucrY7AFliHoHVSUbITFW_kxrAvckr0ER_wB6H_q_jPddyfynoZI7nUeXBd71bLxU4oUA0fBwdrRj-mjJjx69d80e4H-3h3RpH5KGy8Cadcgl8seAiEdHJrih_qTKd3wvTzuXm_i1DFLTcWPl98WrsxHOphrnp7OFfCH14FzpTElUqPBiogSBlbzU1mEaV70VZE9NHnvJlI8ASIWeNSgIg-oC1Fx_xIZZHTHto7OIeDwcgfAzoN1LDJ_yAFswm8yj9wPhXlasfGoJFOkN3lUNZKSCQTiQEwqcKHzACzwlh2bteaC8_G63RJBBv7yEBglZu4KoSRS5-pKarUaN14paTtYm_eht6UIdDS9Y_45ay3EbhkQYwYW1o-rjQPo3v962TDt0wKPprXF9q0ZcmSAPCrL1-FW3NR4ZPho6AEnf554oksi6frVtboN1NpoSvBeOH6WE8vsQsvX8jcCxKFxOE1JQshtbmf7iQMSVhA7D-FbX2vhYnlXg2sDyL-FC3uDTJC0M1gItxXDZbf6muUtJjcGVM5GgELkki2MWRHWHnhzuZJKZCHooH886MQmnxkEx4UfFOq7odEPRPLfo7du63uKB5ww-fyLT4aYUmQJbw-8tTf_ZQzesZi91hAIjc04PRxgxVUPtAeMdEuvJXbB-mULE7YgveHAb_xLM3b5CILFRLZSl4gEqskpyw=s64",
      "userId": "16711783934034114260"
     },
     "user_tz": 240
    },
    "id": "gsGYXNvjil7Q"
   },
   "outputs": [],
   "source": [
    "# get per-feature statistics (mean, standard deviation) from the training set to normalize by\n",
    "def normalize(np_array):\n",
    "    array_mean = np.mean(np_array, axis=0)\n",
    "    array_std = np.std(np_array, axis=0)\n",
    "    return (np_array - array_mean) / array_std\n",
    "\n",
    "X_train = normalize(train_features)\n",
    "X_test = normalize(test_features)"
   ]
  },
  {
   "cell_type": "code",
   "execution_count": 91,
   "metadata": {},
   "outputs": [],
   "source": [
    "# Numerical Variables\n",
    "num_vars = ['CRIM', 'ZN', 'INDUS', 'NOX', 'RM', 'AGE', 'DIS', 'RAD',\n",
    "           'TAX', 'PTRATIO', 'B', 'LSTAT']\n",
    "\n",
    "# Categorical variables\n",
    "cat_vars = ['CHAS']\n",
    "\n",
    "X = df[num_vars + cat_vars]\n",
    "\n",
    "X_train, X_test, y_train, y_test = \\\n",
    "train_test_split(X, y, test_size=0.2, random_state=1337)"
   ]
  },
  {
   "cell_type": "code",
   "execution_count": 92,
   "metadata": {
    "executionInfo": {
     "elapsed": 2,
     "status": "ok",
     "timestamp": 1634764580279,
     "user": {
      "displayName": "Michael Munn",
      "photoUrl": "https://lh3.googleusercontent.com/a-/AOh14GivHrWyoK0fJLce2lJeBhchloxeOvcQjFRbZWiBNUZhpU6Ew9kwGSX2oGJ-LfrpnWAYCysd2aEN0ucrY7AFliHoHVSUbITFW_kxrAvckr0ER_wB6H_q_jPddyfynoZI7nUeXBd71bLxU4oUA0fBwdrRj-mjJjx69d80e4H-3h3RpH5KGy8Cadcgl8seAiEdHJrih_qTKd3wvTzuXm_i1DFLTcWPl98WrsxHOphrnp7OFfCH14FzpTElUqPBiogSBlbzU1mEaV70VZE9NHnvJlI8ASIWeNSgIg-oC1Fx_xIZZHTHto7OIeDwcgfAzoN1LDJ_yAFswm8yj9wPhXlasfGoJFOkN3lUNZKSCQTiQEwqcKHzACzwlh2bteaC8_G63RJBBv7yEBglZu4KoSRS5-pKarUaN14paTtYm_eht6UIdDS9Y_45ay3EbhkQYwYW1o-rjQPo3v962TDt0wKPprXF9q0ZcmSAPCrL1-FW3NR4ZPho6AEnf554oksi6frVtboN1NpoSvBeOH6WE8vsQsvX8jcCxKFxOE1JQshtbmf7iQMSVhA7D-FbX2vhYnlXg2sDyL-FC3uDTJC0M1gItxXDZbf6muUtJjcGVM5GgELkki2MWRHWHnhzuZJKZCHooH886MQmnxkEx4UfFOq7odEPRPLfo7du63uKB5ww-fyLT4aYUmQJbw-8tTf_ZQzesZi91hAIjc04PRxgxVUPtAeMdEuvJXbB-mULE7YgveHAb_xLM3b5CILFRLZSl4gEqskpyw=s64",
      "userId": "16711783934034114260"
     },
     "user_tz": 240
    },
    "id": "hmxOqOOXipBi"
   },
   "outputs": [],
   "source": [
    "def build_model():\n",
    "    model = tf.keras.Sequential([\n",
    "        tf.keras.layers.Dense(40, activation=tf.nn.relu, input_shape=[len(train_features[0])]),\n",
    "        tf.keras.layers.Dense(20, activation=tf.nn.relu),\n",
    "        tf.keras.layers.Dense(1)\n",
    "    ])\n",
    "\n",
    "    model.compile(optimizer=tf.keras.optimizers.Adam(), \n",
    "                  loss='mse',\n",
    "                  metrics=['mae', 'mse'])\n",
    "    return model"
   ]
  },
  {
   "cell_type": "code",
   "execution_count": 93,
   "metadata": {
    "executionInfo": {
     "elapsed": 6412,
     "status": "ok",
     "timestamp": 1634764588222,
     "user": {
      "displayName": "Michael Munn",
      "photoUrl": "https://lh3.googleusercontent.com/a-/AOh14GivHrWyoK0fJLce2lJeBhchloxeOvcQjFRbZWiBNUZhpU6Ew9kwGSX2oGJ-LfrpnWAYCysd2aEN0ucrY7AFliHoHVSUbITFW_kxrAvckr0ER_wB6H_q_jPddyfynoZI7nUeXBd71bLxU4oUA0fBwdrRj-mjJjx69d80e4H-3h3RpH5KGy8Cadcgl8seAiEdHJrih_qTKd3wvTzuXm_i1DFLTcWPl98WrsxHOphrnp7OFfCH14FzpTElUqPBiogSBlbzU1mEaV70VZE9NHnvJlI8ASIWeNSgIg-oC1Fx_xIZZHTHto7OIeDwcgfAzoN1LDJ_yAFswm8yj9wPhXlasfGoJFOkN3lUNZKSCQTiQEwqcKHzACzwlh2bteaC8_G63RJBBv7yEBglZu4KoSRS5-pKarUaN14paTtYm_eht6UIdDS9Y_45ay3EbhkQYwYW1o-rjQPo3v962TDt0wKPprXF9q0ZcmSAPCrL1-FW3NR4ZPho6AEnf554oksi6frVtboN1NpoSvBeOH6WE8vsQsvX8jcCxKFxOE1JQshtbmf7iQMSVhA7D-FbX2vhYnlXg2sDyL-FC3uDTJC0M1gItxXDZbf6muUtJjcGVM5GgELkki2MWRHWHnhzuZJKZCHooH886MQmnxkEx4UfFOq7odEPRPLfo7du63uKB5ww-fyLT4aYUmQJbw-8tTf_ZQzesZi91hAIjc04PRxgxVUPtAeMdEuvJXbB-mULE7YgveHAb_xLM3b5CILFRLZSl4gEqskpyw=s64",
      "userId": "16711783934034114260"
     },
     "user_tz": 240
    },
    "id": "7mxa0DEdirGu"
   },
   "outputs": [],
   "source": [
    "model = build_model()\n",
    "\n",
    "early_stopping = tf.keras.callbacks.EarlyStopping(monitor='val_loss', patience=20)\n",
    "history = model.fit(train_features, train_labels, epochs=100, verbose=0,\n",
    "                    validation_data = (test_features, test_labels),\n",
    "                    callbacks=[early_stopping]\n",
    "                   )\n",
    "\n",
    "hist = pd.DataFrame(history.history)\n",
    "hist['epoch'] = history.epoch"
   ]
  },
  {
   "cell_type": "code",
   "execution_count": 94,
   "metadata": {
    "colab": {
     "base_uri": "https://localhost:8080/",
     "height": 283
    },
    "executionInfo": {
     "elapsed": 543,
     "status": "ok",
     "timestamp": 1634764588762,
     "user": {
      "displayName": "Michael Munn",
      "photoUrl": "https://lh3.googleusercontent.com/a-/AOh14GivHrWyoK0fJLce2lJeBhchloxeOvcQjFRbZWiBNUZhpU6Ew9kwGSX2oGJ-LfrpnWAYCysd2aEN0ucrY7AFliHoHVSUbITFW_kxrAvckr0ER_wB6H_q_jPddyfynoZI7nUeXBd71bLxU4oUA0fBwdrRj-mjJjx69d80e4H-3h3RpH5KGy8Cadcgl8seAiEdHJrih_qTKd3wvTzuXm_i1DFLTcWPl98WrsxHOphrnp7OFfCH14FzpTElUqPBiogSBlbzU1mEaV70VZE9NHnvJlI8ASIWeNSgIg-oC1Fx_xIZZHTHto7OIeDwcgfAzoN1LDJ_yAFswm8yj9wPhXlasfGoJFOkN3lUNZKSCQTiQEwqcKHzACzwlh2bteaC8_G63RJBBv7yEBglZu4KoSRS5-pKarUaN14paTtYm_eht6UIdDS9Y_45ay3EbhkQYwYW1o-rjQPo3v962TDt0wKPprXF9q0ZcmSAPCrL1-FW3NR4ZPho6AEnf554oksi6frVtboN1NpoSvBeOH6WE8vsQsvX8jcCxKFxOE1JQshtbmf7iQMSVhA7D-FbX2vhYnlXg2sDyL-FC3uDTJC0M1gItxXDZbf6muUtJjcGVM5GgELkki2MWRHWHnhzuZJKZCHooH886MQmnxkEx4UfFOq7odEPRPLfo7du63uKB5ww-fyLT4aYUmQJbw-8tTf_ZQzesZi91hAIjc04PRxgxVUPtAeMdEuvJXbB-mULE7YgveHAb_xLM3b5CILFRLZSl4gEqskpyw=s64",
      "userId": "16711783934034114260"
     },
     "user_tz": 240
    },
    "id": "hgOn0Hv1itz1",
    "outputId": "327ceecf-392f-42bb-9610-63a3b4d33083"
   },
   "outputs": [
    {
     "data": {
      "image/png": "[encoded data removed]",
      "text/plain": [
       "<Figure size 432x288 with 1 Axes>"
      ]
     },
     "metadata": {
      "needs_background": "light"
     },
     "output_type": "display_data"
    }
   ],
   "source": [
    "def plot_history():\n",
    "    plt.figure()\n",
    "    plt.xlabel('Epoch')\n",
    "    plt.ylabel('Mean Square Error [Thousand Dollars$^2$]')\n",
    "    plt.plot(hist['epoch'], hist['mse'], label='Train Error')\n",
    "    plt.plot(hist['epoch'], hist['val_mse'], label = 'Val Error')\n",
    "    plt.legend()\n",
    "    plt.ylim([0,600])\n",
    "\n",
    "plot_history()"
   ]
  },
  {
   "cell_type": "code",
   "execution_count": 64,
   "metadata": {
    "colab": {
     "base_uri": "https://localhost:8080/"
    },
    "executionInfo": {
     "elapsed": 228,
     "status": "ok",
     "timestamp": 1634764591915,
     "user": {
      "displayName": "Michael Munn",
      "photoUrl": "https://lh3.googleusercontent.com/a-/AOh14GivHrWyoK0fJLce2lJeBhchloxeOvcQjFRbZWiBNUZhpU6Ew9kwGSX2oGJ-LfrpnWAYCysd2aEN0ucrY7AFliHoHVSUbITFW_kxrAvckr0ER_wB6H_q_jPddyfynoZI7nUeXBd71bLxU4oUA0fBwdrRj-mjJjx69d80e4H-3h3RpH5KGy8Cadcgl8seAiEdHJrih_qTKd3wvTzuXm_i1DFLTcWPl98WrsxHOphrnp7OFfCH14FzpTElUqPBiogSBlbzU1mEaV70VZE9NHnvJlI8ASIWeNSgIg-oC1Fx_xIZZHTHto7OIeDwcgfAzoN1LDJ_yAFswm8yj9wPhXlasfGoJFOkN3lUNZKSCQTiQEwqcKHzACzwlh2bteaC8_G63RJBBv7yEBglZu4KoSRS5-pKarUaN14paTtYm_eht6UIdDS9Y_45ay3EbhkQYwYW1o-rjQPo3v962TDt0wKPprXF9q0ZcmSAPCrL1-FW3NR4ZPho6AEnf554oksi6frVtboN1NpoSvBeOH6WE8vsQsvX8jcCxKFxOE1JQshtbmf7iQMSVhA7D-FbX2vhYnlXg2sDyL-FC3uDTJC0M1gItxXDZbf6muUtJjcGVM5GgELkki2MWRHWHnhzuZJKZCHooH886MQmnxkEx4UfFOq7odEPRPLfo7du63uKB5ww-fyLT4aYUmQJbw-8tTf_ZQzesZi91hAIjc04PRxgxVUPtAeMdEuvJXbB-mULE7YgveHAb_xLM3b5CILFRLZSl4gEqskpyw=s64",
      "userId": "16711783934034114260"
     },
     "user_tz": 240
    },
    "id": "VCPWknwUj-fw",
    "outputId": "4ee92e9b-8e3e-4ed2-f57d-e1a0747eef93"
   },
   "outputs": [
    {
     "data": {
      "text/plain": [
       "30.00218287920229"
      ]
     },
     "execution_count": 64,
     "metadata": {},
     "output_type": "execute_result"
    }
   ],
   "source": [
    "mse_test = np.mean((np.squeeze(model.predict(test_features)) - test_labels)**2)\n",
    "mse_test"
   ]
  },
  {
   "cell_type": "code",
   "execution_count": 65,
   "metadata": {
    "executionInfo": {
     "elapsed": 211,
     "status": "ok",
     "timestamp": 1634764593983,
     "user": {
      "displayName": "Michael Munn",
      "photoUrl": "https://lh3.googleusercontent.com/a-/AOh14GivHrWyoK0fJLce2lJeBhchloxeOvcQjFRbZWiBNUZhpU6Ew9kwGSX2oGJ-LfrpnWAYCysd2aEN0ucrY7AFliHoHVSUbITFW_kxrAvckr0ER_wB6H_q_jPddyfynoZI7nUeXBd71bLxU4oUA0fBwdrRj-mjJjx69d80e4H-3h3RpH5KGy8Cadcgl8seAiEdHJrih_qTKd3wvTzuXm_i1DFLTcWPl98WrsxHOphrnp7OFfCH14FzpTElUqPBiogSBlbzU1mEaV70VZE9NHnvJlI8ASIWeNSgIg-oC1Fx_xIZZHTHto7OIeDwcgfAzoN1LDJ_yAFswm8yj9wPhXlasfGoJFOkN3lUNZKSCQTiQEwqcKHzACzwlh2bteaC8_G63RJBBv7yEBglZu4KoSRS5-pKarUaN14paTtYm_eht6UIdDS9Y_45ay3EbhkQYwYW1o-rjQPo3v962TDt0wKPprXF9q0ZcmSAPCrL1-FW3NR4ZPho6AEnf554oksi6frVtboN1NpoSvBeOH6WE8vsQsvX8jcCxKFxOE1JQshtbmf7iQMSVhA7D-FbX2vhYnlXg2sDyL-FC3uDTJC0M1gItxXDZbf6muUtJjcGVM5GgELkki2MWRHWHnhzuZJKZCHooH886MQmnxkEx4UfFOq7odEPRPLfo7du63uKB5ww-fyLT4aYUmQJbw-8tTf_ZQzesZi91hAIjc04PRxgxVUPtAeMdEuvJXbB-mULE7YgveHAb_xLM3b5CILFRLZSl4gEqskpyw=s64",
      "userId": "16711783934034114260"
     },
     "user_tz": 240
    },
    "id": "56Zu7shwm_FS"
   },
   "outputs": [],
   "source": [
    "features = [('CRIM', 'crime_rate'), ('ZN', 'residential_zone'),\n",
    "            ('INDUS', 'prop_non-retail'), ('CHAS', 'river_adjacent'),\n",
    "            ('NOX', 'NO_concentration'), ('RM', 'avg_rooms'),\n",
    "            ('AGE', 'age'), ('DIS', 'employment_proximity'),\n",
    "            ('RAD', 'radial_highways'), ('TAX', 'tax_rate'),\n",
    "            ('PTRATIO', 'pupil-teacher_ratio'), ('B', 'prop_black'),\n",
    "            ('LSTAT', 'lower_status_pop')]\n",
    "df = pd.DataFrame(test_features, columns=[feature[0] for feature in features])"
   ]
  },
  {
   "cell_type": "code",
   "execution_count": 66,
   "metadata": {
    "colab": {
     "base_uri": "https://localhost:8080/",
     "height": 203
    },
    "executionInfo": {
     "elapsed": 5,
     "status": "ok",
     "timestamp": 1634764594865,
     "user": {
      "displayName": "Michael Munn",
      "photoUrl": "https://lh3.googleusercontent.com/a-/AOh14GivHrWyoK0fJLce2lJeBhchloxeOvcQjFRbZWiBNUZhpU6Ew9kwGSX2oGJ-LfrpnWAYCysd2aEN0ucrY7AFliHoHVSUbITFW_kxrAvckr0ER_wB6H_q_jPddyfynoZI7nUeXBd71bLxU4oUA0fBwdrRj-mjJjx69d80e4H-3h3RpH5KGy8Cadcgl8seAiEdHJrih_qTKd3wvTzuXm_i1DFLTcWPl98WrsxHOphrnp7OFfCH14FzpTElUqPBiogSBlbzU1mEaV70VZE9NHnvJlI8ASIWeNSgIg-oC1Fx_xIZZHTHto7OIeDwcgfAzoN1LDJ_yAFswm8yj9wPhXlasfGoJFOkN3lUNZKSCQTiQEwqcKHzACzwlh2bteaC8_G63RJBBv7yEBglZu4KoSRS5-pKarUaN14paTtYm_eht6UIdDS9Y_45ay3EbhkQYwYW1o-rjQPo3v962TDt0wKPprXF9q0ZcmSAPCrL1-FW3NR4ZPho6AEnf554oksi6frVtboN1NpoSvBeOH6WE8vsQsvX8jcCxKFxOE1JQshtbmf7iQMSVhA7D-FbX2vhYnlXg2sDyL-FC3uDTJC0M1gItxXDZbf6muUtJjcGVM5GgELkki2MWRHWHnhzuZJKZCHooH886MQmnxkEx4UfFOq7odEPRPLfo7du63uKB5ww-fyLT4aYUmQJbw-8tTf_ZQzesZi91hAIjc04PRxgxVUPtAeMdEuvJXbB-mULE7YgveHAb_xLM3b5CILFRLZSl4gEqskpyw=s64",
      "userId": "16711783934034114260"
     },
     "user_tz": 240
    },
    "id": "6S5b5xTmnZjJ",
    "outputId": "812510fe-ebd2-4826-d362-7d9056ffa6d3"
   },
   "outputs": [
    {
     "data": {
      "text/html": [
       "<div>\n",
       "<style scoped>\n",
       "    .dataframe tbody tr th:only-of-type {\n",
       "        vertical-align: middle;\n",
       "    }\n",
       "\n",
       "    .dataframe tbody tr th {\n",
       "        vertical-align: top;\n",
       "    }\n",
       "\n",
       "    .dataframe thead th {\n",
       "        text-align: right;\n",
       "    }\n",
       "</style>\n",
       "<table border=\"1\" class=\"dataframe\">\n",
       "  <thead>\n",
       "    <tr style=\"text-align: right;\">\n",
       "      <th></th>\n",
       "      <th>CRIM</th>\n",
       "      <th>ZN</th>\n",
       "      <th>INDUS</th>\n",
       "      <th>CHAS</th>\n",
       "      <th>NOX</th>\n",
       "      <th>RM</th>\n",
       "      <th>AGE</th>\n",
       "      <th>DIS</th>\n",
       "      <th>RAD</th>\n",
       "      <th>TAX</th>\n",
       "      <th>PTRATIO</th>\n",
       "      <th>B</th>\n",
       "      <th>LSTAT</th>\n",
       "    </tr>\n",
       "  </thead>\n",
       "  <tbody>\n",
       "    <tr>\n",
       "      <th>0</th>\n",
       "      <td>18.08460</td>\n",
       "      <td>0.0</td>\n",
       "      <td>18.10</td>\n",
       "      <td>0.0</td>\n",
       "      <td>0.679</td>\n",
       "      <td>6.434</td>\n",
       "      <td>100.0</td>\n",
       "      <td>1.8347</td>\n",
       "      <td>24.0</td>\n",
       "      <td>666.0</td>\n",
       "      <td>20.2</td>\n",
       "      <td>27.25</td>\n",
       "      <td>29.05</td>\n",
       "    </tr>\n",
       "    <tr>\n",
       "      <th>1</th>\n",
       "      <td>0.12329</td>\n",
       "      <td>0.0</td>\n",
       "      <td>10.01</td>\n",
       "      <td>0.0</td>\n",
       "      <td>0.547</td>\n",
       "      <td>5.913</td>\n",
       "      <td>92.9</td>\n",
       "      <td>2.3534</td>\n",
       "      <td>6.0</td>\n",
       "      <td>432.0</td>\n",
       "      <td>17.8</td>\n",
       "      <td>394.95</td>\n",
       "      <td>16.21</td>\n",
       "    </tr>\n",
       "    <tr>\n",
       "      <th>2</th>\n",
       "      <td>0.05497</td>\n",
       "      <td>0.0</td>\n",
       "      <td>5.19</td>\n",
       "      <td>0.0</td>\n",
       "      <td>0.515</td>\n",
       "      <td>5.985</td>\n",
       "      <td>45.4</td>\n",
       "      <td>4.8122</td>\n",
       "      <td>5.0</td>\n",
       "      <td>224.0</td>\n",
       "      <td>20.2</td>\n",
       "      <td>396.90</td>\n",
       "      <td>9.74</td>\n",
       "    </tr>\n",
       "    <tr>\n",
       "      <th>3</th>\n",
       "      <td>1.27346</td>\n",
       "      <td>0.0</td>\n",
       "      <td>19.58</td>\n",
       "      <td>1.0</td>\n",
       "      <td>0.605</td>\n",
       "      <td>6.250</td>\n",
       "      <td>92.6</td>\n",
       "      <td>1.7984</td>\n",
       "      <td>5.0</td>\n",
       "      <td>403.0</td>\n",
       "      <td>14.7</td>\n",
       "      <td>338.92</td>\n",
       "      <td>5.50</td>\n",
       "    </tr>\n",
       "    <tr>\n",
       "      <th>4</th>\n",
       "      <td>0.07151</td>\n",
       "      <td>0.0</td>\n",
       "      <td>4.49</td>\n",
       "      <td>0.0</td>\n",
       "      <td>0.449</td>\n",
       "      <td>6.121</td>\n",
       "      <td>56.8</td>\n",
       "      <td>3.7476</td>\n",
       "      <td>3.0</td>\n",
       "      <td>247.0</td>\n",
       "      <td>18.5</td>\n",
       "      <td>395.15</td>\n",
       "      <td>8.44</td>\n",
       "    </tr>\n",
       "  </tbody>\n",
       "</table>\n",
       "</div>"
      ],
      "text/plain": [
       "       CRIM   ZN  INDUS  CHAS    NOX     RM    AGE     DIS   RAD    TAX  \\\n",
       "0  18.08460  0.0  18.10   0.0  0.679  6.434  100.0  1.8347  24.0  666.0   \n",
       "1   0.12329  0.0  10.01   0.0  0.547  5.913   92.9  2.3534   6.0  432.0   \n",
       "2   0.05497  0.0   5.19   0.0  0.515  5.985   45.4  4.8122   5.0  224.0   \n",
       "3   1.27346  0.0  19.58   1.0  0.605  6.250   92.6  1.7984   5.0  403.0   \n",
       "4   0.07151  0.0   4.49   0.0  0.449  6.121   56.8  3.7476   3.0  247.0   \n",
       "\n",
       "   PTRATIO       B  LSTAT  \n",
       "0     20.2   27.25  29.05  \n",
       "1     17.8  394.95  16.21  \n",
       "2     20.2  396.90   9.74  \n",
       "3     14.7  338.92   5.50  \n",
       "4     18.5  395.15   8.44  "
      ]
     },
     "execution_count": 66,
     "metadata": {},
     "output_type": "execute_result"
    }
   ],
   "source": [
    "df.head()"
   ]
  },
  {
   "cell_type": "code",
   "execution_count": 67,
   "metadata": {
    "executionInfo": {
     "elapsed": 223,
     "status": "ok",
     "timestamp": 1634764599307,
     "user": {
      "displayName": "Michael Munn",
      "photoUrl": "https://lh3.googleusercontent.com/a-/AOh14GivHrWyoK0fJLce2lJeBhchloxeOvcQjFRbZWiBNUZhpU6Ew9kwGSX2oGJ-LfrpnWAYCysd2aEN0ucrY7AFliHoHVSUbITFW_kxrAvckr0ER_wB6H_q_jPddyfynoZI7nUeXBd71bLxU4oUA0fBwdrRj-mjJjx69d80e4H-3h3RpH5KGy8Cadcgl8seAiEdHJrih_qTKd3wvTzuXm_i1DFLTcWPl98WrsxHOphrnp7OFfCH14FzpTElUqPBiogSBlbzU1mEaV70VZE9NHnvJlI8ASIWeNSgIg-oC1Fx_xIZZHTHto7OIeDwcgfAzoN1LDJ_yAFswm8yj9wPhXlasfGoJFOkN3lUNZKSCQTiQEwqcKHzACzwlh2bteaC8_G63RJBBv7yEBglZu4KoSRS5-pKarUaN14paTtYm_eht6UIdDS9Y_45ay3EbhkQYwYW1o-rjQPo3v962TDt0wKPprXF9q0ZcmSAPCrL1-FW3NR4ZPho6AEnf554oksi6frVtboN1NpoSvBeOH6WE8vsQsvX8jcCxKFxOE1JQshtbmf7iQMSVhA7D-FbX2vhYnlXg2sDyL-FC3uDTJC0M1gItxXDZbf6muUtJjcGVM5GgELkki2MWRHWHnhzuZJKZCHooH886MQmnxkEx4UfFOq7odEPRPLfo7du63uKB5ww-fyLT4aYUmQJbw-8tTf_ZQzesZi91hAIjc04PRxgxVUPtAeMdEuvJXbB-mULE7YgveHAb_xLM3b5CILFRLZSl4gEqskpyw=s64",
      "userId": "16711783934034114260"
     },
     "user_tz": 240
    },
    "id": "Wp__BI4pndM_"
   },
   "outputs": [],
   "source": [
    "df_perturb = df.copy()"
   ]
  },
  {
   "cell_type": "code",
   "execution_count": 68,
   "metadata": {
    "executionInfo": {
     "elapsed": 3,
     "status": "ok",
     "timestamp": 1634764599531,
     "user": {
      "displayName": "Michael Munn",
      "photoUrl": "https://lh3.googleusercontent.com/a-/AOh14GivHrWyoK0fJLce2lJeBhchloxeOvcQjFRbZWiBNUZhpU6Ew9kwGSX2oGJ-LfrpnWAYCysd2aEN0ucrY7AFliHoHVSUbITFW_kxrAvckr0ER_wB6H_q_jPddyfynoZI7nUeXBd71bLxU4oUA0fBwdrRj-mjJjx69d80e4H-3h3RpH5KGy8Cadcgl8seAiEdHJrih_qTKd3wvTzuXm_i1DFLTcWPl98WrsxHOphrnp7OFfCH14FzpTElUqPBiogSBlbzU1mEaV70VZE9NHnvJlI8ASIWeNSgIg-oC1Fx_xIZZHTHto7OIeDwcgfAzoN1LDJ_yAFswm8yj9wPhXlasfGoJFOkN3lUNZKSCQTiQEwqcKHzACzwlh2bteaC8_G63RJBBv7yEBglZu4KoSRS5-pKarUaN14paTtYm_eht6UIdDS9Y_45ay3EbhkQYwYW1o-rjQPo3v962TDt0wKPprXF9q0ZcmSAPCrL1-FW3NR4ZPho6AEnf554oksi6frVtboN1NpoSvBeOH6WE8vsQsvX8jcCxKFxOE1JQshtbmf7iQMSVhA7D-FbX2vhYnlXg2sDyL-FC3uDTJC0M1gItxXDZbf6muUtJjcGVM5GgELkki2MWRHWHnhzuZJKZCHooH886MQmnxkEx4UfFOq7odEPRPLfo7du63uKB5ww-fyLT4aYUmQJbw-8tTf_ZQzesZi91hAIjc04PRxgxVUPtAeMdEuvJXbB-mULE7YgveHAb_xLM3b5CILFRLZSl4gEqskpyw=s64",
      "userId": "16711783934034114260"
     },
     "user_tz": 240
    },
    "id": "1OE1g1e4nc_L"
   },
   "outputs": [],
   "source": [
    "df_perturb['CRIM'] = df_perturb['CRIM'].sample(frac=1.0).values"
   ]
  },
  {
   "cell_type": "code",
   "execution_count": 69,
   "metadata": {
    "colab": {
     "base_uri": "https://localhost:8080/",
     "height": 203
    },
    "executionInfo": {
     "elapsed": 5,
     "status": "ok",
     "timestamp": 1634764600730,
     "user": {
      "displayName": "Michael Munn",
      "photoUrl": "https://lh3.googleusercontent.com/a-/AOh14GivHrWyoK0fJLce2lJeBhchloxeOvcQjFRbZWiBNUZhpU6Ew9kwGSX2oGJ-LfrpnWAYCysd2aEN0ucrY7AFliHoHVSUbITFW_kxrAvckr0ER_wB6H_q_jPddyfynoZI7nUeXBd71bLxU4oUA0fBwdrRj-mjJjx69d80e4H-3h3RpH5KGy8Cadcgl8seAiEdHJrih_qTKd3wvTzuXm_i1DFLTcWPl98WrsxHOphrnp7OFfCH14FzpTElUqPBiogSBlbzU1mEaV70VZE9NHnvJlI8ASIWeNSgIg-oC1Fx_xIZZHTHto7OIeDwcgfAzoN1LDJ_yAFswm8yj9wPhXlasfGoJFOkN3lUNZKSCQTiQEwqcKHzACzwlh2bteaC8_G63RJBBv7yEBglZu4KoSRS5-pKarUaN14paTtYm_eht6UIdDS9Y_45ay3EbhkQYwYW1o-rjQPo3v962TDt0wKPprXF9q0ZcmSAPCrL1-FW3NR4ZPho6AEnf554oksi6frVtboN1NpoSvBeOH6WE8vsQsvX8jcCxKFxOE1JQshtbmf7iQMSVhA7D-FbX2vhYnlXg2sDyL-FC3uDTJC0M1gItxXDZbf6muUtJjcGVM5GgELkki2MWRHWHnhzuZJKZCHooH886MQmnxkEx4UfFOq7odEPRPLfo7du63uKB5ww-fyLT4aYUmQJbw-8tTf_ZQzesZi91hAIjc04PRxgxVUPtAeMdEuvJXbB-mULE7YgveHAb_xLM3b5CILFRLZSl4gEqskpyw=s64",
      "userId": "16711783934034114260"
     },
     "user_tz": 240
    },
    "id": "8DudBH3pncWa",
    "outputId": "c3837cd5-ffef-4b11-bce8-9fae7803ebf8"
   },
   "outputs": [
    {
     "data": {
      "text/html": [
       "<div>\n",
       "<style scoped>\n",
       "    .dataframe tbody tr th:only-of-type {\n",
       "        vertical-align: middle;\n",
       "    }\n",
       "\n",
       "    .dataframe tbody tr th {\n",
       "        vertical-align: top;\n",
       "    }\n",
       "\n",
       "    .dataframe thead th {\n",
       "        text-align: right;\n",
       "    }\n",
       "</style>\n",
       "<table border=\"1\" class=\"dataframe\">\n",
       "  <thead>\n",
       "    <tr style=\"text-align: right;\">\n",
       "      <th></th>\n",
       "      <th>CRIM</th>\n",
       "      <th>ZN</th>\n",
       "      <th>INDUS</th>\n",
       "      <th>CHAS</th>\n",
       "      <th>NOX</th>\n",
       "      <th>RM</th>\n",
       "      <th>AGE</th>\n",
       "      <th>DIS</th>\n",
       "      <th>RAD</th>\n",
       "      <th>TAX</th>\n",
       "      <th>PTRATIO</th>\n",
       "      <th>B</th>\n",
       "      <th>LSTAT</th>\n",
       "    </tr>\n",
       "  </thead>\n",
       "  <tbody>\n",
       "    <tr>\n",
       "      <th>0</th>\n",
       "      <td>14.33370</td>\n",
       "      <td>0.0</td>\n",
       "      <td>18.10</td>\n",
       "      <td>0.0</td>\n",
       "      <td>0.679</td>\n",
       "      <td>6.434</td>\n",
       "      <td>100.0</td>\n",
       "      <td>1.8347</td>\n",
       "      <td>24.0</td>\n",
       "      <td>666.0</td>\n",
       "      <td>20.2</td>\n",
       "      <td>27.25</td>\n",
       "      <td>29.05</td>\n",
       "    </tr>\n",
       "    <tr>\n",
       "      <th>1</th>\n",
       "      <td>1.35472</td>\n",
       "      <td>0.0</td>\n",
       "      <td>10.01</td>\n",
       "      <td>0.0</td>\n",
       "      <td>0.547</td>\n",
       "      <td>5.913</td>\n",
       "      <td>92.9</td>\n",
       "      <td>2.3534</td>\n",
       "      <td>6.0</td>\n",
       "      <td>432.0</td>\n",
       "      <td>17.8</td>\n",
       "      <td>394.95</td>\n",
       "      <td>16.21</td>\n",
       "    </tr>\n",
       "    <tr>\n",
       "      <th>2</th>\n",
       "      <td>0.03705</td>\n",
       "      <td>0.0</td>\n",
       "      <td>5.19</td>\n",
       "      <td>0.0</td>\n",
       "      <td>0.515</td>\n",
       "      <td>5.985</td>\n",
       "      <td>45.4</td>\n",
       "      <td>4.8122</td>\n",
       "      <td>5.0</td>\n",
       "      <td>224.0</td>\n",
       "      <td>20.2</td>\n",
       "      <td>396.90</td>\n",
       "      <td>9.74</td>\n",
       "    </tr>\n",
       "    <tr>\n",
       "      <th>3</th>\n",
       "      <td>0.01501</td>\n",
       "      <td>0.0</td>\n",
       "      <td>19.58</td>\n",
       "      <td>1.0</td>\n",
       "      <td>0.605</td>\n",
       "      <td>6.250</td>\n",
       "      <td>92.6</td>\n",
       "      <td>1.7984</td>\n",
       "      <td>5.0</td>\n",
       "      <td>403.0</td>\n",
       "      <td>14.7</td>\n",
       "      <td>338.92</td>\n",
       "      <td>5.50</td>\n",
       "    </tr>\n",
       "    <tr>\n",
       "      <th>4</th>\n",
       "      <td>0.09744</td>\n",
       "      <td>0.0</td>\n",
       "      <td>4.49</td>\n",
       "      <td>0.0</td>\n",
       "      <td>0.449</td>\n",
       "      <td>6.121</td>\n",
       "      <td>56.8</td>\n",
       "      <td>3.7476</td>\n",
       "      <td>3.0</td>\n",
       "      <td>247.0</td>\n",
       "      <td>18.5</td>\n",
       "      <td>395.15</td>\n",
       "      <td>8.44</td>\n",
       "    </tr>\n",
       "  </tbody>\n",
       "</table>\n",
       "</div>"
      ],
      "text/plain": [
       "       CRIM   ZN  INDUS  CHAS    NOX     RM    AGE     DIS   RAD    TAX  \\\n",
       "0  14.33370  0.0  18.10   0.0  0.679  6.434  100.0  1.8347  24.0  666.0   \n",
       "1   1.35472  0.0  10.01   0.0  0.547  5.913   92.9  2.3534   6.0  432.0   \n",
       "2   0.03705  0.0   5.19   0.0  0.515  5.985   45.4  4.8122   5.0  224.0   \n",
       "3   0.01501  0.0  19.58   1.0  0.605  6.250   92.6  1.7984   5.0  403.0   \n",
       "4   0.09744  0.0   4.49   0.0  0.449  6.121   56.8  3.7476   3.0  247.0   \n",
       "\n",
       "   PTRATIO       B  LSTAT  \n",
       "0     20.2   27.25  29.05  \n",
       "1     17.8  394.95  16.21  \n",
       "2     20.2  396.90   9.74  \n",
       "3     14.7  338.92   5.50  \n",
       "4     18.5  395.15   8.44  "
      ]
     },
     "execution_count": 69,
     "metadata": {},
     "output_type": "execute_result"
    }
   ],
   "source": [
    "df_perturb.head()"
   ]
  },
  {
   "cell_type": "code",
   "execution_count": 70,
   "metadata": {
    "colab": {
     "base_uri": "https://localhost:8080/"
    },
    "executionInfo": {
     "elapsed": 4,
     "status": "ok",
     "timestamp": 1634764601839,
     "user": {
      "displayName": "Michael Munn",
      "photoUrl": "https://lh3.googleusercontent.com/a-/AOh14GivHrWyoK0fJLce2lJeBhchloxeOvcQjFRbZWiBNUZhpU6Ew9kwGSX2oGJ-LfrpnWAYCysd2aEN0ucrY7AFliHoHVSUbITFW_kxrAvckr0ER_wB6H_q_jPddyfynoZI7nUeXBd71bLxU4oUA0fBwdrRj-mjJjx69d80e4H-3h3RpH5KGy8Cadcgl8seAiEdHJrih_qTKd3wvTzuXm_i1DFLTcWPl98WrsxHOphrnp7OFfCH14FzpTElUqPBiogSBlbzU1mEaV70VZE9NHnvJlI8ASIWeNSgIg-oC1Fx_xIZZHTHto7OIeDwcgfAzoN1LDJ_yAFswm8yj9wPhXlasfGoJFOkN3lUNZKSCQTiQEwqcKHzACzwlh2bteaC8_G63RJBBv7yEBglZu4KoSRS5-pKarUaN14paTtYm_eht6UIdDS9Y_45ay3EbhkQYwYW1o-rjQPo3v962TDt0wKPprXF9q0ZcmSAPCrL1-FW3NR4ZPho6AEnf554oksi6frVtboN1NpoSvBeOH6WE8vsQsvX8jcCxKFxOE1JQshtbmf7iQMSVhA7D-FbX2vhYnlXg2sDyL-FC3uDTJC0M1gItxXDZbf6muUtJjcGVM5GgELkki2MWRHWHnhzuZJKZCHooH886MQmnxkEx4UfFOq7odEPRPLfo7du63uKB5ww-fyLT4aYUmQJbw-8tTf_ZQzesZi91hAIjc04PRxgxVUPtAeMdEuvJXbB-mULE7YgveHAb_xLM3b5CILFRLZSl4gEqskpyw=s64",
      "userId": "16711783934034114260"
     },
     "user_tz": 240
    },
    "id": "L34kw9pv5wj3",
    "outputId": "0e0ea1a0-5531-433d-cb62-15d4ef76179a"
   },
   "outputs": [
    {
     "data": {
      "text/plain": [
       "33.33827554460172"
      ]
     },
     "execution_count": 70,
     "metadata": {},
     "output_type": "execute_result"
    }
   ],
   "source": [
    "np.mean((np.squeeze(model.predict(df_perturb.values)) - test_labels)**2)"
   ]
  },
  {
   "cell_type": "code",
   "execution_count": 71,
   "metadata": {
    "colab": {
     "base_uri": "https://localhost:8080/",
     "height": 450
    },
    "executionInfo": {
     "elapsed": 1725,
     "status": "ok",
     "timestamp": 1634764608901,
     "user": {
      "displayName": "Michael Munn",
      "photoUrl": "https://lh3.googleusercontent.com/a-/AOh14GivHrWyoK0fJLce2lJeBhchloxeOvcQjFRbZWiBNUZhpU6Ew9kwGSX2oGJ-LfrpnWAYCysd2aEN0ucrY7AFliHoHVSUbITFW_kxrAvckr0ER_wB6H_q_jPddyfynoZI7nUeXBd71bLxU4oUA0fBwdrRj-mjJjx69d80e4H-3h3RpH5KGy8Cadcgl8seAiEdHJrih_qTKd3wvTzuXm_i1DFLTcWPl98WrsxHOphrnp7OFfCH14FzpTElUqPBiogSBlbzU1mEaV70VZE9NHnvJlI8ASIWeNSgIg-oC1Fx_xIZZHTHto7OIeDwcgfAzoN1LDJ_yAFswm8yj9wPhXlasfGoJFOkN3lUNZKSCQTiQEwqcKHzACzwlh2bteaC8_G63RJBBv7yEBglZu4KoSRS5-pKarUaN14paTtYm_eht6UIdDS9Y_45ay3EbhkQYwYW1o-rjQPo3v962TDt0wKPprXF9q0ZcmSAPCrL1-FW3NR4ZPho6AEnf554oksi6frVtboN1NpoSvBeOH6WE8vsQsvX8jcCxKFxOE1JQshtbmf7iQMSVhA7D-FbX2vhYnlXg2sDyL-FC3uDTJC0M1gItxXDZbf6muUtJjcGVM5GgELkki2MWRHWHnhzuZJKZCHooH886MQmnxkEx4UfFOq7odEPRPLfo7du63uKB5ww-fyLT4aYUmQJbw-8tTf_ZQzesZi91hAIjc04PRxgxVUPtAeMdEuvJXbB-mULE7YgveHAb_xLM3b5CILFRLZSl4gEqskpyw=s64",
      "userId": "16711783934034114260"
     },
     "user_tz": 240
    },
    "id": "Y0N4R7Ak68nX",
    "outputId": "c89e22b0-4407-465d-e3fd-85ff56db16fe"
   },
   "outputs": [
    {
     "data": {
      "text/html": [
       "<div>\n",
       "<style scoped>\n",
       "    .dataframe tbody tr th:only-of-type {\n",
       "        vertical-align: middle;\n",
       "    }\n",
       "\n",
       "    .dataframe tbody tr th {\n",
       "        vertical-align: top;\n",
       "    }\n",
       "\n",
       "    .dataframe thead th {\n",
       "        text-align: right;\n",
       "    }\n",
       "</style>\n",
       "<table border=\"1\" class=\"dataframe\">\n",
       "  <thead>\n",
       "    <tr style=\"text-align: right;\">\n",
       "      <th></th>\n",
       "      <th>feature_name</th>\n",
       "      <th>feature</th>\n",
       "      <th>score</th>\n",
       "    </tr>\n",
       "  </thead>\n",
       "  <tbody>\n",
       "    <tr>\n",
       "      <th>12</th>\n",
       "      <td>LSTAT</td>\n",
       "      <td>lower_status_pop</td>\n",
       "      <td>82.914677</td>\n",
       "    </tr>\n",
       "    <tr>\n",
       "      <th>9</th>\n",
       "      <td>TAX</td>\n",
       "      <td>tax_rate</td>\n",
       "      <td>30.496683</td>\n",
       "    </tr>\n",
       "    <tr>\n",
       "      <th>8</th>\n",
       "      <td>RAD</td>\n",
       "      <td>radial_highways</td>\n",
       "      <td>17.189064</td>\n",
       "    </tr>\n",
       "    <tr>\n",
       "      <th>2</th>\n",
       "      <td>INDUS</td>\n",
       "      <td>prop_non-retail</td>\n",
       "      <td>11.840635</td>\n",
       "    </tr>\n",
       "    <tr>\n",
       "      <th>6</th>\n",
       "      <td>AGE</td>\n",
       "      <td>age</td>\n",
       "      <td>11.711357</td>\n",
       "    </tr>\n",
       "    <tr>\n",
       "      <th>7</th>\n",
       "      <td>DIS</td>\n",
       "      <td>employment_proximity</td>\n",
       "      <td>2.671644</td>\n",
       "    </tr>\n",
       "    <tr>\n",
       "      <th>10</th>\n",
       "      <td>PTRATIO</td>\n",
       "      <td>pupil-teacher_ratio</td>\n",
       "      <td>2.642333</td>\n",
       "    </tr>\n",
       "    <tr>\n",
       "      <th>11</th>\n",
       "      <td>B</td>\n",
       "      <td>prop_black</td>\n",
       "      <td>1.987297</td>\n",
       "    </tr>\n",
       "    <tr>\n",
       "      <th>0</th>\n",
       "      <td>CRIM</td>\n",
       "      <td>crime_rate</td>\n",
       "      <td>1.811401</td>\n",
       "    </tr>\n",
       "    <tr>\n",
       "      <th>5</th>\n",
       "      <td>RM</td>\n",
       "      <td>avg_rooms</td>\n",
       "      <td>1.533502</td>\n",
       "    </tr>\n",
       "    <tr>\n",
       "      <th>1</th>\n",
       "      <td>ZN</td>\n",
       "      <td>residential_zone</td>\n",
       "      <td>0.881994</td>\n",
       "    </tr>\n",
       "    <tr>\n",
       "      <th>4</th>\n",
       "      <td>NOX</td>\n",
       "      <td>NO_concentration</td>\n",
       "      <td>0.013693</td>\n",
       "    </tr>\n",
       "    <tr>\n",
       "      <th>3</th>\n",
       "      <td>CHAS</td>\n",
       "      <td>river_adjacent</td>\n",
       "      <td>-0.933771</td>\n",
       "    </tr>\n",
       "  </tbody>\n",
       "</table>\n",
       "</div>"
      ],
      "text/plain": [
       "   feature_name               feature      score\n",
       "12        LSTAT      lower_status_pop  82.914677\n",
       "9           TAX              tax_rate  30.496683\n",
       "8           RAD       radial_highways  17.189064\n",
       "2         INDUS       prop_non-retail  11.840635\n",
       "6           AGE                   age  11.711357\n",
       "7           DIS  employment_proximity   2.671644\n",
       "10      PTRATIO   pupil-teacher_ratio   2.642333\n",
       "11            B            prop_black   1.987297\n",
       "0          CRIM            crime_rate   1.811401\n",
       "5            RM             avg_rooms   1.533502\n",
       "1            ZN      residential_zone   0.881994\n",
       "4           NOX      NO_concentration   0.013693\n",
       "3          CHAS        river_adjacent  -0.933771"
      ]
     },
     "execution_count": 71,
     "metadata": {},
     "output_type": "execute_result"
    }
   ],
   "source": [
    "result = []\n",
    "\n",
    "for feature in features:\n",
    "  df_perturb = df.copy()\n",
    "  # shuffle feature values\n",
    "  df_perturb[feature[0]] = df_perturb[feature[0]].sample(frac=1.0).values\n",
    "\n",
    "  mse_perturb = np.mean((np.squeeze(model.predict(df_perturb.values)) - test_labels)**2)\n",
    "  # result[feature] = [mse_perturb]\n",
    "  result.append({'feature_name': feature[0],\n",
    "                 'feature': feature[1],\n",
    "                 'score': mse_perturb - mse_test})\n",
    "\n",
    "df_pfi = pd.DataFrame(result).sort_values(by='score',\n",
    "                                          ascending=False)\n",
    "df_pfi"
   ]
  },
  {
   "cell_type": "code",
   "execution_count": null,
   "metadata": {
    "id": "5Eaxl1JZkEwQ"
   },
   "outputs": [],
   "source": []
  },
  {
   "cell_type": "markdown",
   "metadata": {},
   "source": [
    "## Permutation Feature Importance in sci-kit learn"
   ]
  },
  {
   "cell_type": "code",
   "execution_count": 76,
   "metadata": {},
   "outputs": [],
   "source": [
    "(train_features, train_labels), (test_features, test_labels) = tf.keras.datasets.boston_housing.load_data()\n",
    "features = [('CRIM', 'crime_rate'), ('ZN', 'residential_zone'),\n",
    "            ('INDUS', 'prop_non-retail'), ('CHAS', 'river_adjacent'),\n",
    "            ('NOX', 'NO_concentration'), ('RM', 'avg_rooms'),\n",
    "            ('AGE', 'age'), ('DIS', 'employment_proximit'),\n",
    "            ('RAD', 'radial_highways'), ('TAX', 'tax_rate'),\n",
    "            ('PTRATIO', 'pupil-teacher_ratio'), ('B', 'prop_black'),\n",
    "            ('LSTAT', 'lower_status_pop')]\n",
    "df_train_features = pd.DataFrame(train_features, columns=[feature[0] for feature in features])\n",
    "df_train_labels = pd.DataFrame({'MEDV': train_labels})\n",
    "df = pd.concat((df_train_features, df_train_labels), axis=1)\n",
    "\n",
    "df.CHAS = df.CHAS.apply(lambda x: 'T' if x==1.0 else 'F')"
   ]
  },
  {
   "cell_type": "code",
   "execution_count": 77,
   "metadata": {},
   "outputs": [],
   "source": [
    "# Numerical Variables\n",
    "num_vars = ['CRIM', 'ZN', 'INDUS', 'NOX', 'RM', 'AGE', 'DIS', 'RAD',\n",
    "           'TAX', 'PTRATIO', 'B', 'LSTAT']\n",
    "\n",
    "# Categorical variables\n",
    "cat_vars = ['CHAS']\n",
    "\n",
    "X = df[num_vars + cat_vars]\n",
    "\n",
    "# Label\n",
    "y = df['MEDV']"
   ]
  },
  {
   "cell_type": "code",
   "execution_count": 79,
   "metadata": {},
   "outputs": [
    {
     "data": {
      "text/plain": [
       "Pipeline(steps=[('transform',\n",
       "                 ColumnTransformer(transformers=[('numerical',\n",
       "                                                  MinMaxScaler(feature_range=(-1,\n",
       "                                                                              1)),\n",
       "                                                  ['CRIM', 'ZN', 'INDUS', 'NOX',\n",
       "                                                   'RM', 'AGE', 'DIS', 'RAD',\n",
       "                                                   'TAX', 'PTRATIO', 'B',\n",
       "                                                   'LSTAT']),\n",
       "                                                 ('categorical',\n",
       "                                                  OneHotEncoder(),\n",
       "                                                  ['CHAS'])])),\n",
       "                ('model',\n",
       "                 MLPRegressor(hidden_layer_sizes=[300, 200, 100],\n",
       "                              max_iter=700))])"
      ]
     },
     "execution_count": 79,
     "metadata": {},
     "output_type": "execute_result"
    }
   ],
   "source": [
    "# Create models\n",
    "mlp_reg = MLPRegressor(hidden_layer_sizes=[300, 200, 100],\n",
    "                       max_iter=700)\n",
    "\n",
    "# Create pipeline\n",
    "transformer = ColumnTransformer([\n",
    "    ('numerical', MinMaxScaler(feature_range=(-1,1)), num_vars),\n",
    "    ('categorical', OneHotEncoder(), cat_vars),\n",
    "])\n",
    "\n",
    "mlp_pipeline = Pipeline(steps=[\n",
    "    ('transform', transformer),\n",
    "    ('model', mlp_reg)\n",
    "])\n",
    "\n",
    "# Create dataset\n",
    "X_train, X_test, y_train, y_test = \\\n",
    "train_test_split(X, y, test_size=0.2, random_state=1337)\n",
    "\n",
    "mlp_pipeline.fit(X_train, y_train)"
   ]
  },
  {
   "cell_type": "code",
   "execution_count": 80,
   "metadata": {},
   "outputs": [
    {
     "name": "stdout",
     "output_type": "stream",
     "text": [
      "Mean squared error of MLP model: 2.893469319134751\n"
     ]
    }
   ],
   "source": [
    "model_mse_error = np.sqrt(np.mean((mlp_pipeline.predict(X_test) - y_test)**2))\n",
    "print(f'Mean squared error of MLP model: {model_mse_error}')"
   ]
  },
  {
   "cell_type": "code",
   "execution_count": 81,
   "metadata": {},
   "outputs": [
    {
     "data": {
      "text/plain": [
       "0.9295746160970157"
      ]
     },
     "execution_count": 81,
     "metadata": {},
     "output_type": "execute_result"
    }
   ],
   "source": [
    "mlp_pipeline.score(X_test, y_test)"
   ]
  },
  {
   "cell_type": "code",
   "execution_count": 82,
   "metadata": {},
   "outputs": [],
   "source": [
    "from sklearn.inspection import permutation_importance\n",
    "r = permutation_importance(mlp_pipeline, X_test, y_test,\n",
    "                           n_repeats=30,\n",
    "                           random_state=0)"
   ]
  },
  {
   "cell_type": "code",
   "execution_count": 85,
   "metadata": {},
   "outputs": [
    {
     "name": "stdout",
     "output_type": "stream",
     "text": [
      "LSTAT   0.810 +/- 0.185\n",
      "RM      0.491 +/- 0.076\n",
      "DIS     0.170 +/- 0.035\n",
      "AGE     0.148 +/- 0.038\n",
      "RAD     0.117 +/- 0.034\n",
      "NOX     0.115 +/- 0.028\n",
      "TAX     0.115 +/- 0.026\n",
      "CRIM    0.052 +/- 0.013\n",
      "PTRATIO 0.051 +/- 0.013\n",
      "INDUS   0.050 +/- 0.023\n"
     ]
    }
   ],
   "source": [
    "boston_features = num_vars + cat_vars\n",
    "\n",
    "for i in r.importances_mean.argsort()[::-1]:\n",
    "    if r.importances_mean[i] - 2 * r.importances_std[i] > 0:\n",
    "        print(f\"{boston_features[i]:<8}\"\n",
    "              f\"{r.importances_mean[i]:.3f}\"\n",
    "              f\" +/- {r.importances_std[i]:.3f}\")"
   ]
  },
  {
   "cell_type": "code",
   "execution_count": 86,
   "metadata": {},
   "outputs": [],
   "source": [
    "from sklearn.inspection import permutation_importance\n",
    "r = permutation_importance(mlp_pipeline, X_test, y_test,\n",
    "                           n_repeats=10,\n",
    "                           random_state=0)"
   ]
  },
  {
   "cell_type": "code",
   "execution_count": 87,
   "metadata": {},
   "outputs": [
    {
     "name": "stdout",
     "output_type": "stream",
     "text": [
      "LSTAT   0.870 +/- 0.187\n",
      "RM      0.476 +/- 0.064\n",
      "DIS     0.174 +/- 0.034\n",
      "AGE     0.162 +/- 0.041\n",
      "NOX     0.125 +/- 0.026\n",
      "TAX     0.123 +/- 0.032\n",
      "RAD     0.119 +/- 0.035\n",
      "INDUS   0.052 +/- 0.020\n",
      "CRIM    0.051 +/- 0.012\n",
      "PTRATIO 0.049 +/- 0.012\n",
      "ZN      0.020 +/- 0.009\n",
      "CHAS    0.006 +/- 0.003\n"
     ]
    }
   ],
   "source": [
    "boston_features = num_vars + cat_vars\n",
    "\n",
    "for i in r.importances_mean.argsort()[::-1]:\n",
    "    if r.importances_mean[i] - 2 * r.importances_std[i] > 0:\n",
    "        print(f\"{boston_features[i]:<8}\"\n",
    "              f\"{r.importances_mean[i]:.3f}\"\n",
    "              f\" +/- {r.importances_std[i]:.3f}\")"
   ]
  },
  {
   "cell_type": "markdown",
   "metadata": {},
   "source": [
    "Copyright 2022 Google Inc. Licensed under the Apache License, Version 2.0 (the \"License\"); you may not use this file except in compliance with the License. You may obtain a copy of the License at http://www.apache.org/licenses/LICENSE-2.0 Unless required by applicable law or agreed to in writing, software distributed under the License is distributed on an \"AS IS\" BASIS, WITHOUT WARRANTIES OR CONDITIONS OF ANY KIND, either express or implied. See the License for the specific language governing permissions and limitations under the License"
   ]
  }
 ],
 "metadata": {
  "colab": {
   "name": "XAI_permuation_feature_importance.ipynb",
   "provenance": []
  },
  "environment": {
   "name": "tf2-gpu.2-3.m78",
   "type": "gcloud",
   "uri": "gcr.io/deeplearning-platform-release/tf2-gpu.2-3:m78"
  },
  "kernelspec": {
   "display_name": "Python 3",
   "language": "python",
   "name": "python3"
  },
  "language_info": {
   "codemirror_mode": {
    "name": "ipython",
    "version": 3
   },
   "file_extension": ".py",
   "mimetype": "text/x-python",
   "name": "python",
   "nbconvert_exporter": "python",
   "pygments_lexer": "ipython3",
   "version": "3.7.10"
  }
 },
 "nbformat": 4,
 "nbformat_minor": 4
}
