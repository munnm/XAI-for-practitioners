{
 "cells": [
  {
   "cell_type": "markdown",
   "metadata": {},
   "source": [
    "# Permutation Feature Importance"
   ]
  },
  {
   "cell_type": "code",
   "execution_count": 42,
   "metadata": {},
   "outputs": [],
   "source": [
    "# !pip install scikit-learn==1.0.1"
   ]
  },
  {
   "cell_type": "code",
   "execution_count": 1,
   "metadata": {},
   "outputs": [],
   "source": [
    "import sklearn\n",
    "\n",
    "import pandas as pd\n",
    "import numpy as np\n",
    "import tensorflow as tf\n",
    "import matplotlib.pyplot as plt\n",
    "\n",
    "from sklearn.datasets import fetch_california_housing\n",
    "from sklearn.model_selection import train_test_split"
   ]
  },
  {
   "cell_type": "code",
   "execution_count": 2,
   "metadata": {},
   "outputs": [
    {
     "name": "stdout",
     "output_type": "stream",
     "text": [
      "The scikit-learn version is 1.0.1.\n",
      "The tensorflow version is 2.8.0.\n"
     ]
    }
   ],
   "source": [
    "print(f'The scikit-learn version is {sklearn.__version__}.')\n",
    "print(f'The tensorflow version is {tf.__version__}.')"
   ]
  },
  {
   "cell_type": "markdown",
   "metadata": {},
   "source": [
    "### Load the dataset"
   ]
  },
  {
   "cell_type": "code",
   "execution_count": 3,
   "metadata": {},
   "outputs": [],
   "source": [
    "cal_housing = fetch_california_housing()"
   ]
  },
  {
   "cell_type": "markdown",
   "metadata": {},
   "source": [
    "Get a summary description of the dataset"
   ]
  },
  {
   "cell_type": "code",
   "execution_count": 4,
   "metadata": {},
   "outputs": [
    {
     "name": "stdout",
     "output_type": "stream",
     "text": [
      ".. _california_housing_dataset:\n",
      "\n",
      "California Housing dataset\n",
      "--------------------------\n",
      "\n",
      "**Data Set Characteristics:**\n",
      "\n",
      "    :Number of Instances: 20640\n",
      "\n",
      "    :Number of Attributes: 8 numeric, predictive attributes and the target\n",
      "\n",
      "    :Attribute Information:\n",
      "        - MedInc        median income in block group\n",
      "        - HouseAge      median house age in block group\n",
      "        - AveRooms      average number of rooms per household\n",
      "        - AveBedrms     average number of bedrooms per household\n",
      "        - Population    block group population\n",
      "        - AveOccup      average number of household members\n",
      "        - Latitude      block group latitude\n",
      "        - Longitude     block group longitude\n",
      "\n",
      "    :Missing Attribute Values: None\n",
      "\n",
      "This dataset was obtained from the StatLib repository.\n",
      "https://www.dcc.fc.up.pt/~ltorgo/Regression/cal_housing.html\n",
      "\n",
      "The target variable is the median house value for California districts,\n",
      "expressed in hundreds of thousands of dollars ($100,000).\n",
      "\n",
      "This dataset was derived from the 1990 U.S. census, using one row per census\n",
      "block group. A block group is the smallest geographical unit for which the U.S.\n",
      "Census Bureau publishes sample data (a block group typically has a population\n",
      "of 600 to 3,000 people).\n",
      "\n",
      "An household is a group of people residing within a home. Since the average\n",
      "number of rooms and bedrooms in this dataset are provided per household, these\n",
      "columns may take surpinsingly large values for block groups with few households\n",
      "and many empty houses, such as vacation resorts.\n",
      "\n",
      "It can be downloaded/loaded using the\n",
      ":func:`sklearn.datasets.fetch_california_housing` function.\n",
      "\n",
      ".. topic:: References\n",
      "\n",
      "    - Pace, R. Kelley and Ronald Barry, Sparse Spatial Autoregressions,\n",
      "      Statistics and Probability Letters, 33 (1997) 291-297\n",
      "\n"
     ]
    }
   ],
   "source": [
    "print(cal_housing.DESCR)"
   ]
  },
  {
   "cell_type": "code",
   "execution_count": 13,
   "metadata": {},
   "outputs": [],
   "source": [
    "X = cal_housing.data\n",
    "y = cal_housing.target\n",
    "cal_features = cal_housing.feature_names\n",
    "\n",
    "df = pd.concat((pd.DataFrame(X, columns=cal_features),\n",
    "                pd.DataFrame({'MedianHouseVal': y})), axis=1)"
   ]
  },
  {
   "cell_type": "code",
   "execution_count": 14,
   "metadata": {},
   "outputs": [
    {
     "data": {
      "text/html": [
       "<div>\n",
       "<style scoped>\n",
       "    .dataframe tbody tr th:only-of-type {\n",
       "        vertical-align: middle;\n",
       "    }\n",
       "\n",
       "    .dataframe tbody tr th {\n",
       "        vertical-align: top;\n",
       "    }\n",
       "\n",
       "    .dataframe thead th {\n",
       "        text-align: right;\n",
       "    }\n",
       "</style>\n",
       "<table border=\"1\" class=\"dataframe\">\n",
       "  <thead>\n",
       "    <tr style=\"text-align: right;\">\n",
       "      <th></th>\n",
       "      <th>MedInc</th>\n",
       "      <th>HouseAge</th>\n",
       "      <th>AveRooms</th>\n",
       "      <th>AveBedrms</th>\n",
       "      <th>Population</th>\n",
       "      <th>AveOccup</th>\n",
       "      <th>Latitude</th>\n",
       "      <th>Longitude</th>\n",
       "      <th>MedianHouseVal</th>\n",
       "    </tr>\n",
       "  </thead>\n",
       "  <tbody>\n",
       "    <tr>\n",
       "      <th>0</th>\n",
       "      <td>8.3252</td>\n",
       "      <td>41.0</td>\n",
       "      <td>6.984127</td>\n",
       "      <td>1.023810</td>\n",
       "      <td>322.0</td>\n",
       "      <td>2.555556</td>\n",
       "      <td>37.88</td>\n",
       "      <td>-122.23</td>\n",
       "      <td>4.526</td>\n",
       "    </tr>\n",
       "    <tr>\n",
       "      <th>1</th>\n",
       "      <td>8.3014</td>\n",
       "      <td>21.0</td>\n",
       "      <td>6.238137</td>\n",
       "      <td>0.971880</td>\n",
       "      <td>2401.0</td>\n",
       "      <td>2.109842</td>\n",
       "      <td>37.86</td>\n",
       "      <td>-122.22</td>\n",
       "      <td>3.585</td>\n",
       "    </tr>\n",
       "    <tr>\n",
       "      <th>2</th>\n",
       "      <td>7.2574</td>\n",
       "      <td>52.0</td>\n",
       "      <td>8.288136</td>\n",
       "      <td>1.073446</td>\n",
       "      <td>496.0</td>\n",
       "      <td>2.802260</td>\n",
       "      <td>37.85</td>\n",
       "      <td>-122.24</td>\n",
       "      <td>3.521</td>\n",
       "    </tr>\n",
       "    <tr>\n",
       "      <th>3</th>\n",
       "      <td>5.6431</td>\n",
       "      <td>52.0</td>\n",
       "      <td>5.817352</td>\n",
       "      <td>1.073059</td>\n",
       "      <td>558.0</td>\n",
       "      <td>2.547945</td>\n",
       "      <td>37.85</td>\n",
       "      <td>-122.25</td>\n",
       "      <td>3.413</td>\n",
       "    </tr>\n",
       "    <tr>\n",
       "      <th>4</th>\n",
       "      <td>3.8462</td>\n",
       "      <td>52.0</td>\n",
       "      <td>6.281853</td>\n",
       "      <td>1.081081</td>\n",
       "      <td>565.0</td>\n",
       "      <td>2.181467</td>\n",
       "      <td>37.85</td>\n",
       "      <td>-122.25</td>\n",
       "      <td>3.422</td>\n",
       "    </tr>\n",
       "  </tbody>\n",
       "</table>\n",
       "</div>"
      ],
      "text/plain": [
       "   MedInc  HouseAge  AveRooms  AveBedrms  Population  AveOccup  Latitude  \\\n",
       "0  8.3252      41.0  6.984127   1.023810       322.0  2.555556     37.88   \n",
       "1  8.3014      21.0  6.238137   0.971880      2401.0  2.109842     37.86   \n",
       "2  7.2574      52.0  8.288136   1.073446       496.0  2.802260     37.85   \n",
       "3  5.6431      52.0  5.817352   1.073059       558.0  2.547945     37.85   \n",
       "4  3.8462      52.0  6.281853   1.081081       565.0  2.181467     37.85   \n",
       "\n",
       "   Longitude  MedianHouseVal  \n",
       "0    -122.23           4.526  \n",
       "1    -122.22           3.585  \n",
       "2    -122.24           3.521  \n",
       "3    -122.25           3.413  \n",
       "4    -122.25           3.422  "
      ]
     },
     "execution_count": 14,
     "metadata": {},
     "output_type": "execute_result"
    }
   ],
   "source": [
    "df.head()"
   ]
  },
  {
   "cell_type": "markdown",
   "metadata": {},
   "source": [
    "### Train a model in tensorflow"
   ]
  },
  {
   "cell_type": "code",
   "execution_count": 15,
   "metadata": {},
   "outputs": [],
   "source": [
    "# helper functions to normalize the feature array and compute MSE\n",
    "def normalize(np_array):\n",
    "    array_mean = np.mean(np_array, axis=0)\n",
    "    array_std = np.std(np_array, axis=0)\n",
    "    return (np_array - array_mean) / array_std\n",
    "\n",
    "def compute_mse(preds, labels):\n",
    "    return np.mean((preds - labels)**2)"
   ]
  },
  {
   "cell_type": "code",
   "execution_count": 16,
   "metadata": {},
   "outputs": [],
   "source": [
    "def build_model():\n",
    "    model = tf.keras.Sequential([\n",
    "        tf.keras.layers.Dense(40, activation=tf.nn.relu, input_shape=[len(X_train[0])]),\n",
    "        tf.keras.layers.Dense(20, activation=tf.nn.relu),\n",
    "        tf.keras.layers.Dense(1)\n",
    "    ])\n",
    "\n",
    "    model.compile(optimizer=tf.keras.optimizers.Adam(), \n",
    "                  loss='mse',\n",
    "                  metrics=['mae', 'mse'])\n",
    "    return model"
   ]
  },
  {
   "cell_type": "code",
   "execution_count": 17,
   "metadata": {},
   "outputs": [],
   "source": [
    "# Create dataset\n",
    "X_train, X_test, y_train, y_test = train_test_split(X, y, test_size=0.2)"
   ]
  },
  {
   "cell_type": "code",
   "execution_count": 18,
   "metadata": {},
   "outputs": [],
   "source": [
    "model = build_model()\n",
    "\n",
    "early_stopping = tf.keras.callbacks.EarlyStopping(monitor='val_loss', patience=20)\n",
    "history = model.fit(normalize(X_train), y_train, epochs=100, verbose=0,\n",
    "                    validation_data = (normalize(X_test), y_test),\n",
    "                    callbacks=[early_stopping]\n",
    "                   )\n",
    "\n",
    "hist = pd.DataFrame(history.history)\n",
    "hist['epoch'] = history.epoch"
   ]
  },
  {
   "cell_type": "code",
   "execution_count": 19,
   "metadata": {},
   "outputs": [
    {
     "data": {
      "image/png": "[encoded data removed]",
      "text/plain": [
       "<Figure size 432x288 with 1 Axes>"
      ]
     },
     "metadata": {
      "needs_background": "light"
     },
     "output_type": "display_data"
    }
   ],
   "source": [
    "def plot_history(history):\n",
    "    plt.figure()\n",
    "    plt.xlabel('Epoch')\n",
    "    plt.ylabel('Mean Square Error ($1000]')\n",
    "    plt.plot(history['epoch'], history['mse'], label='Train Error')\n",
    "    plt.plot(history['epoch'], history['val_mse'], label = 'Val Error')\n",
    "    plt.legend()\n",
    "\n",
    "plot_history(hist)"
   ]
  },
  {
   "cell_type": "code",
   "execution_count": 21,
   "metadata": {},
   "outputs": [
    {
     "name": "stdout",
     "output_type": "stream",
     "text": [
      "The RMSE for our TF model is 1.060356079103043\n"
     ]
    }
   ],
   "source": [
    "test_preds = np.squeeze(model.predict(normalize(X_test)))\n",
    "mse_test = compute_mse(test_preds, y_test)\n",
    "print(f'The RMSE for our TF model is {np.sqrt(mse_test)}')"
   ]
  },
  {
   "cell_type": "markdown",
   "metadata": {},
   "source": [
    "Perturb features values in the test set."
   ]
  },
  {
   "cell_type": "code",
   "execution_count": 23,
   "metadata": {},
   "outputs": [],
   "source": [
    "df_test = pd.DataFrame(X_test, columns=cal_features)"
   ]
  },
  {
   "cell_type": "code",
   "execution_count": 24,
   "metadata": {},
   "outputs": [],
   "source": [
    "df_perturb = df_test.copy()\n",
    "df_perturb['MedInc'] = df_perturb['MedInc'].sample(frac=1.0).values"
   ]
  },
  {
   "cell_type": "code",
   "execution_count": 25,
   "metadata": {},
   "outputs": [
    {
     "data": {
      "text/html": [
       "<div>\n",
       "<style scoped>\n",
       "    .dataframe tbody tr th:only-of-type {\n",
       "        vertical-align: middle;\n",
       "    }\n",
       "\n",
       "    .dataframe tbody tr th {\n",
       "        vertical-align: top;\n",
       "    }\n",
       "\n",
       "    .dataframe thead th {\n",
       "        text-align: right;\n",
       "    }\n",
       "</style>\n",
       "<table border=\"1\" class=\"dataframe\">\n",
       "  <thead>\n",
       "    <tr style=\"text-align: right;\">\n",
       "      <th></th>\n",
       "      <th>MedInc</th>\n",
       "      <th>HouseAge</th>\n",
       "      <th>AveRooms</th>\n",
       "      <th>AveBedrms</th>\n",
       "      <th>Population</th>\n",
       "      <th>AveOccup</th>\n",
       "      <th>Latitude</th>\n",
       "      <th>Longitude</th>\n",
       "    </tr>\n",
       "  </thead>\n",
       "  <tbody>\n",
       "    <tr>\n",
       "      <th>0</th>\n",
       "      <td>3.1538</td>\n",
       "      <td>39.0</td>\n",
       "      <td>5.072464</td>\n",
       "      <td>1.048309</td>\n",
       "      <td>895.0</td>\n",
       "      <td>4.323671</td>\n",
       "      <td>33.92</td>\n",
       "      <td>-118.20</td>\n",
       "    </tr>\n",
       "    <tr>\n",
       "      <th>1</th>\n",
       "      <td>4.4844</td>\n",
       "      <td>31.0</td>\n",
       "      <td>5.945205</td>\n",
       "      <td>0.948630</td>\n",
       "      <td>801.0</td>\n",
       "      <td>2.743151</td>\n",
       "      <td>33.20</td>\n",
       "      <td>-117.22</td>\n",
       "    </tr>\n",
       "    <tr>\n",
       "      <th>2</th>\n",
       "      <td>1.4803</td>\n",
       "      <td>10.0</td>\n",
       "      <td>3.062350</td>\n",
       "      <td>1.170264</td>\n",
       "      <td>730.0</td>\n",
       "      <td>1.750600</td>\n",
       "      <td>33.87</td>\n",
       "      <td>-117.93</td>\n",
       "    </tr>\n",
       "    <tr>\n",
       "      <th>3</th>\n",
       "      <td>2.2891</td>\n",
       "      <td>31.0</td>\n",
       "      <td>6.348123</td>\n",
       "      <td>1.344710</td>\n",
       "      <td>1848.0</td>\n",
       "      <td>6.307167</td>\n",
       "      <td>37.94</td>\n",
       "      <td>-121.49</td>\n",
       "    </tr>\n",
       "    <tr>\n",
       "      <th>4</th>\n",
       "      <td>5.7858</td>\n",
       "      <td>9.0</td>\n",
       "      <td>5.498316</td>\n",
       "      <td>0.993266</td>\n",
       "      <td>928.0</td>\n",
       "      <td>3.124579</td>\n",
       "      <td>33.68</td>\n",
       "      <td>-117.79</td>\n",
       "    </tr>\n",
       "  </tbody>\n",
       "</table>\n",
       "</div>"
      ],
      "text/plain": [
       "   MedInc  HouseAge  AveRooms  AveBedrms  Population  AveOccup  Latitude  \\\n",
       "0  3.1538      39.0  5.072464   1.048309       895.0  4.323671     33.92   \n",
       "1  4.4844      31.0  5.945205   0.948630       801.0  2.743151     33.20   \n",
       "2  1.4803      10.0  3.062350   1.170264       730.0  1.750600     33.87   \n",
       "3  2.2891      31.0  6.348123   1.344710      1848.0  6.307167     37.94   \n",
       "4  5.7858       9.0  5.498316   0.993266       928.0  3.124579     33.68   \n",
       "\n",
       "   Longitude  \n",
       "0    -118.20  \n",
       "1    -117.22  \n",
       "2    -117.93  \n",
       "3    -121.49  \n",
       "4    -117.79  "
      ]
     },
     "execution_count": 25,
     "metadata": {},
     "output_type": "execute_result"
    }
   ],
   "source": [
    "df_test.head()"
   ]
  },
  {
   "cell_type": "code",
   "execution_count": 26,
   "metadata": {},
   "outputs": [
    {
     "data": {
      "text/html": [
       "<div>\n",
       "<style scoped>\n",
       "    .dataframe tbody tr th:only-of-type {\n",
       "        vertical-align: middle;\n",
       "    }\n",
       "\n",
       "    .dataframe tbody tr th {\n",
       "        vertical-align: top;\n",
       "    }\n",
       "\n",
       "    .dataframe thead th {\n",
       "        text-align: right;\n",
       "    }\n",
       "</style>\n",
       "<table border=\"1\" class=\"dataframe\">\n",
       "  <thead>\n",
       "    <tr style=\"text-align: right;\">\n",
       "      <th></th>\n",
       "      <th>MedInc</th>\n",
       "      <th>HouseAge</th>\n",
       "      <th>AveRooms</th>\n",
       "      <th>AveBedrms</th>\n",
       "      <th>Population</th>\n",
       "      <th>AveOccup</th>\n",
       "      <th>Latitude</th>\n",
       "      <th>Longitude</th>\n",
       "    </tr>\n",
       "  </thead>\n",
       "  <tbody>\n",
       "    <tr>\n",
       "      <th>0</th>\n",
       "      <td>2.9187</td>\n",
       "      <td>39.0</td>\n",
       "      <td>5.072464</td>\n",
       "      <td>1.048309</td>\n",
       "      <td>895.0</td>\n",
       "      <td>4.323671</td>\n",
       "      <td>33.92</td>\n",
       "      <td>-118.20</td>\n",
       "    </tr>\n",
       "    <tr>\n",
       "      <th>1</th>\n",
       "      <td>5.9158</td>\n",
       "      <td>31.0</td>\n",
       "      <td>5.945205</td>\n",
       "      <td>0.948630</td>\n",
       "      <td>801.0</td>\n",
       "      <td>2.743151</td>\n",
       "      <td>33.20</td>\n",
       "      <td>-117.22</td>\n",
       "    </tr>\n",
       "    <tr>\n",
       "      <th>2</th>\n",
       "      <td>3.0500</td>\n",
       "      <td>10.0</td>\n",
       "      <td>3.062350</td>\n",
       "      <td>1.170264</td>\n",
       "      <td>730.0</td>\n",
       "      <td>1.750600</td>\n",
       "      <td>33.87</td>\n",
       "      <td>-117.93</td>\n",
       "    </tr>\n",
       "    <tr>\n",
       "      <th>3</th>\n",
       "      <td>3.2481</td>\n",
       "      <td>31.0</td>\n",
       "      <td>6.348123</td>\n",
       "      <td>1.344710</td>\n",
       "      <td>1848.0</td>\n",
       "      <td>6.307167</td>\n",
       "      <td>37.94</td>\n",
       "      <td>-121.49</td>\n",
       "    </tr>\n",
       "    <tr>\n",
       "      <th>4</th>\n",
       "      <td>4.5368</td>\n",
       "      <td>9.0</td>\n",
       "      <td>5.498316</td>\n",
       "      <td>0.993266</td>\n",
       "      <td>928.0</td>\n",
       "      <td>3.124579</td>\n",
       "      <td>33.68</td>\n",
       "      <td>-117.79</td>\n",
       "    </tr>\n",
       "  </tbody>\n",
       "</table>\n",
       "</div>"
      ],
      "text/plain": [
       "   MedInc  HouseAge  AveRooms  AveBedrms  Population  AveOccup  Latitude  \\\n",
       "0  2.9187      39.0  5.072464   1.048309       895.0  4.323671     33.92   \n",
       "1  5.9158      31.0  5.945205   0.948630       801.0  2.743151     33.20   \n",
       "2  3.0500      10.0  3.062350   1.170264       730.0  1.750600     33.87   \n",
       "3  3.2481      31.0  6.348123   1.344710      1848.0  6.307167     37.94   \n",
       "4  4.5368       9.0  5.498316   0.993266       928.0  3.124579     33.68   \n",
       "\n",
       "   Longitude  \n",
       "0    -118.20  \n",
       "1    -117.22  \n",
       "2    -117.93  \n",
       "3    -121.49  \n",
       "4    -117.79  "
      ]
     },
     "execution_count": 26,
     "metadata": {},
     "output_type": "execute_result"
    }
   ],
   "source": [
    "df_perturb.head()"
   ]
  },
  {
   "cell_type": "markdown",
   "metadata": {},
   "source": [
    "Compute the MSE on the test set with 'MedInc' perturbed."
   ]
  },
  {
   "cell_type": "code",
   "execution_count": 27,
   "metadata": {},
   "outputs": [
    {
     "name": "stdout",
     "output_type": "stream",
     "text": [
      "The RMSE for our TF model with MedInc shuffled is 1.4160717468464896\n"
     ]
    }
   ],
   "source": [
    "test_preds = np.squeeze(model.predict(normalize(df_perturb.values)))\n",
    "mse_test = compute_mse(test_preds, y_test)\n",
    "print(f'The RMSE for our TF model with MedInc shuffled is {np.sqrt(mse_test)}')"
   ]
  },
  {
   "cell_type": "markdown",
   "metadata": {},
   "source": [
    "Compute the score for each feature value:"
   ]
  },
  {
   "cell_type": "code",
   "execution_count": 22,
   "metadata": {},
   "outputs": [
    {
     "data": {
      "text/html": [
       "<div>\n",
       "<style scoped>\n",
       "    .dataframe tbody tr th:only-of-type {\n",
       "        vertical-align: middle;\n",
       "    }\n",
       "\n",
       "    .dataframe tbody tr th {\n",
       "        vertical-align: top;\n",
       "    }\n",
       "\n",
       "    .dataframe thead th {\n",
       "        text-align: right;\n",
       "    }\n",
       "</style>\n",
       "<table border=\"1\" class=\"dataframe\">\n",
       "  <thead>\n",
       "    <tr style=\"text-align: right;\">\n",
       "      <th></th>\n",
       "      <th>feature</th>\n",
       "      <th>score</th>\n",
       "    </tr>\n",
       "  </thead>\n",
       "  <tbody>\n",
       "    <tr>\n",
       "      <th>6</th>\n",
       "      <td>Latitude</td>\n",
       "      <td>1.436863</td>\n",
       "    </tr>\n",
       "    <tr>\n",
       "      <th>7</th>\n",
       "      <td>Longitude</td>\n",
       "      <td>1.187403</td>\n",
       "    </tr>\n",
       "    <tr>\n",
       "      <th>0</th>\n",
       "      <td>MedInc</td>\n",
       "      <td>-0.029252</td>\n",
       "    </tr>\n",
       "    <tr>\n",
       "      <th>2</th>\n",
       "      <td>AveRooms</td>\n",
       "      <td>-0.320287</td>\n",
       "    </tr>\n",
       "    <tr>\n",
       "      <th>3</th>\n",
       "      <td>AveBedrms</td>\n",
       "      <td>-0.438341</td>\n",
       "    </tr>\n",
       "    <tr>\n",
       "      <th>5</th>\n",
       "      <td>AveOccup</td>\n",
       "      <td>-0.581753</td>\n",
       "    </tr>\n",
       "    <tr>\n",
       "      <th>1</th>\n",
       "      <td>HouseAge</td>\n",
       "      <td>-0.598577</td>\n",
       "    </tr>\n",
       "    <tr>\n",
       "      <th>4</th>\n",
       "      <td>Population</td>\n",
       "      <td>-0.644541</td>\n",
       "    </tr>\n",
       "  </tbody>\n",
       "</table>\n",
       "</div>"
      ],
      "text/plain": [
       "      feature     score\n",
       "6    Latitude  1.436863\n",
       "7   Longitude  1.187403\n",
       "0      MedInc -0.029252\n",
       "2    AveRooms -0.320287\n",
       "3   AveBedrms -0.438341\n",
       "5    AveOccup -0.581753\n",
       "1    HouseAge -0.598577\n",
       "4  Population -0.644541"
      ]
     },
     "execution_count": 22,
     "metadata": {},
     "output_type": "execute_result"
    }
   ],
   "source": [
    "result = []\n",
    "\n",
    "for feature in cal_features:\n",
    "    df_perturb = df_test.copy()\n",
    "    # shuffle feature values\n",
    "    df_perturb[feature] = df_perturb[feature].sample(frac=1.0).values\n",
    "    \n",
    "    test_preds = np.squeeze(model.predict(normalize(df_perturb.values)))\n",
    "    mse_perturb = compute_mse(test_preds, y_test)\n",
    "    result.append({'feature': feature,\n",
    "                   'score': mse_perturb - mse_test})\n",
    "\n",
    "df_pfi = pd.DataFrame(result).sort_values(by='score',\n",
    "                                          ascending=False)\n",
    "df_pfi"
   ]
  },
  {
   "cell_type": "markdown",
   "metadata": {},
   "source": [
    "Of course, in practice you'd want to repeat this multiple times to get a statistically significant measure. For that, we'll use sk-learn."
   ]
  },
  {
   "cell_type": "markdown",
   "metadata": {},
   "source": [
    "## Permutation Feature Importance in Scikit-learn"
   ]
  },
  {
   "cell_type": "code",
   "execution_count": 23,
   "metadata": {},
   "outputs": [
    {
     "data": {
      "text/html": [
       "<div>\n",
       "<style scoped>\n",
       "    .dataframe tbody tr th:only-of-type {\n",
       "        vertical-align: middle;\n",
       "    }\n",
       "\n",
       "    .dataframe tbody tr th {\n",
       "        vertical-align: top;\n",
       "    }\n",
       "\n",
       "    .dataframe thead th {\n",
       "        text-align: right;\n",
       "    }\n",
       "</style>\n",
       "<table border=\"1\" class=\"dataframe\">\n",
       "  <thead>\n",
       "    <tr style=\"text-align: right;\">\n",
       "      <th></th>\n",
       "      <th>MedInc</th>\n",
       "      <th>HouseAge</th>\n",
       "      <th>AveRooms</th>\n",
       "      <th>AveBedrms</th>\n",
       "      <th>Population</th>\n",
       "      <th>AveOccup</th>\n",
       "      <th>Latitude</th>\n",
       "      <th>Longitude</th>\n",
       "    </tr>\n",
       "  </thead>\n",
       "  <tbody>\n",
       "    <tr>\n",
       "      <th>0</th>\n",
       "      <td>3.6250</td>\n",
       "      <td>36.0</td>\n",
       "      <td>4.285714</td>\n",
       "      <td>0.857143</td>\n",
       "      <td>51.0</td>\n",
       "      <td>3.642857</td>\n",
       "      <td>37.64</td>\n",
       "      <td>-120.96</td>\n",
       "    </tr>\n",
       "    <tr>\n",
       "      <th>1</th>\n",
       "      <td>1.5714</td>\n",
       "      <td>38.0</td>\n",
       "      <td>3.932099</td>\n",
       "      <td>1.259259</td>\n",
       "      <td>679.0</td>\n",
       "      <td>4.191358</td>\n",
       "      <td>33.94</td>\n",
       "      <td>-118.28</td>\n",
       "    </tr>\n",
       "    <tr>\n",
       "      <th>2</th>\n",
       "      <td>1.7841</td>\n",
       "      <td>34.0</td>\n",
       "      <td>5.171348</td>\n",
       "      <td>0.994382</td>\n",
       "      <td>1019.0</td>\n",
       "      <td>2.862360</td>\n",
       "      <td>37.03</td>\n",
       "      <td>-120.61</td>\n",
       "    </tr>\n",
       "    <tr>\n",
       "      <th>3</th>\n",
       "      <td>3.2964</td>\n",
       "      <td>52.0</td>\n",
       "      <td>4.263502</td>\n",
       "      <td>1.109656</td>\n",
       "      <td>2071.0</td>\n",
       "      <td>3.389525</td>\n",
       "      <td>37.76</td>\n",
       "      <td>-122.41</td>\n",
       "    </tr>\n",
       "    <tr>\n",
       "      <th>4</th>\n",
       "      <td>2.0458</td>\n",
       "      <td>18.0</td>\n",
       "      <td>5.047727</td>\n",
       "      <td>1.043182</td>\n",
       "      <td>952.0</td>\n",
       "      <td>2.163636</td>\n",
       "      <td>39.78</td>\n",
       "      <td>-121.57</td>\n",
       "    </tr>\n",
       "  </tbody>\n",
       "</table>\n",
       "</div>"
      ],
      "text/plain": [
       "   MedInc  HouseAge  AveRooms  AveBedrms  Population  AveOccup  Latitude  \\\n",
       "0  3.6250      36.0  4.285714   0.857143        51.0  3.642857     37.64   \n",
       "1  1.5714      38.0  3.932099   1.259259       679.0  4.191358     33.94   \n",
       "2  1.7841      34.0  5.171348   0.994382      1019.0  2.862360     37.03   \n",
       "3  3.2964      52.0  4.263502   1.109656      2071.0  3.389525     37.76   \n",
       "4  2.0458      18.0  5.047727   1.043182       952.0  2.163636     39.78   \n",
       "\n",
       "   Longitude  \n",
       "0    -120.96  \n",
       "1    -118.28  \n",
       "2    -120.61  \n",
       "3    -122.41  \n",
       "4    -121.57  "
      ]
     },
     "execution_count": 23,
     "metadata": {},
     "output_type": "execute_result"
    }
   ],
   "source": [
    "df_train.head()"
   ]
  },
  {
   "cell_type": "code",
   "execution_count": 24,
   "metadata": {},
   "outputs": [
    {
     "data": {
      "text/plain": [
       "Pipeline(steps=[('transform',\n",
       "                 ColumnTransformer(transformers=[('numerical',\n",
       "                                                  MinMaxScaler(feature_range=(-1,\n",
       "                                                                              1)),\n",
       "                                                  ['MedInc', 'HouseAge',\n",
       "                                                   'AveRooms', 'AveBedrms',\n",
       "                                                   'Population', 'AveOccup',\n",
       "                                                   'Latitude',\n",
       "                                                   'Longitude'])])),\n",
       "                ('model',\n",
       "                 MLPRegressor(hidden_layer_sizes=[30, 20, 10, 5],\n",
       "                              max_iter=700))])"
      ]
     },
     "execution_count": 24,
     "metadata": {},
     "output_type": "execute_result"
    }
   ],
   "source": [
    "from sklearn.neural_network import MLPRegressor\n",
    "from sklearn.compose import ColumnTransformer\n",
    "from sklearn.preprocessing import MinMaxScaler\n",
    "from sklearn.pipeline import Pipeline\n",
    "\n",
    "# Create models\n",
    "mlp_reg = MLPRegressor(hidden_layer_sizes=[30, 20, 10, 5],\n",
    "                       max_iter=700)\n",
    "\n",
    "# Create pipeline\n",
    "transformer = ColumnTransformer([\n",
    "    ('numerical', MinMaxScaler(feature_range=(-1,1)), cal_features),\n",
    "])\n",
    "\n",
    "mlp_pipeline = Pipeline(steps=[\n",
    "    ('transform', transformer),\n",
    "    ('model', mlp_reg)\n",
    "])\n",
    "\n",
    "\n",
    "mlp_pipeline.fit(df_train, y_train)"
   ]
  },
  {
   "cell_type": "code",
   "execution_count": 25,
   "metadata": {},
   "outputs": [
    {
     "data": {
      "text/html": [
       "<div>\n",
       "<style scoped>\n",
       "    .dataframe tbody tr th:only-of-type {\n",
       "        vertical-align: middle;\n",
       "    }\n",
       "\n",
       "    .dataframe tbody tr th {\n",
       "        vertical-align: top;\n",
       "    }\n",
       "\n",
       "    .dataframe thead th {\n",
       "        text-align: right;\n",
       "    }\n",
       "</style>\n",
       "<table border=\"1\" class=\"dataframe\">\n",
       "  <thead>\n",
       "    <tr style=\"text-align: right;\">\n",
       "      <th></th>\n",
       "      <th>MedInc</th>\n",
       "      <th>HouseAge</th>\n",
       "      <th>AveRooms</th>\n",
       "      <th>AveBedrms</th>\n",
       "      <th>Population</th>\n",
       "      <th>AveOccup</th>\n",
       "      <th>Latitude</th>\n",
       "      <th>Longitude</th>\n",
       "    </tr>\n",
       "  </thead>\n",
       "  <tbody>\n",
       "    <tr>\n",
       "      <th>0</th>\n",
       "      <td>2.6523</td>\n",
       "      <td>36.0</td>\n",
       "      <td>5.689655</td>\n",
       "      <td>1.099138</td>\n",
       "      <td>720.0</td>\n",
       "      <td>3.103448</td>\n",
       "      <td>37.66</td>\n",
       "      <td>-120.91</td>\n",
       "    </tr>\n",
       "    <tr>\n",
       "      <th>1</th>\n",
       "      <td>2.8106</td>\n",
       "      <td>26.0</td>\n",
       "      <td>4.110672</td>\n",
       "      <td>1.106719</td>\n",
       "      <td>2096.0</td>\n",
       "      <td>4.142292</td>\n",
       "      <td>33.82</td>\n",
       "      <td>-118.30</td>\n",
       "    </tr>\n",
       "    <tr>\n",
       "      <th>2</th>\n",
       "      <td>2.2375</td>\n",
       "      <td>24.0</td>\n",
       "      <td>4.381737</td>\n",
       "      <td>1.053892</td>\n",
       "      <td>2005.0</td>\n",
       "      <td>3.001497</td>\n",
       "      <td>32.73</td>\n",
       "      <td>-117.10</td>\n",
       "    </tr>\n",
       "    <tr>\n",
       "      <th>3</th>\n",
       "      <td>4.2798</td>\n",
       "      <td>14.0</td>\n",
       "      <td>3.994521</td>\n",
       "      <td>1.158904</td>\n",
       "      <td>615.0</td>\n",
       "      <td>1.684932</td>\n",
       "      <td>33.76</td>\n",
       "      <td>-117.84</td>\n",
       "    </tr>\n",
       "    <tr>\n",
       "      <th>4</th>\n",
       "      <td>3.6250</td>\n",
       "      <td>36.0</td>\n",
       "      <td>5.108527</td>\n",
       "      <td>1.093023</td>\n",
       "      <td>812.0</td>\n",
       "      <td>2.098191</td>\n",
       "      <td>33.17</td>\n",
       "      <td>-117.35</td>\n",
       "    </tr>\n",
       "  </tbody>\n",
       "</table>\n",
       "</div>"
      ],
      "text/plain": [
       "   MedInc  HouseAge  AveRooms  AveBedrms  Population  AveOccup  Latitude  \\\n",
       "0  2.6523      36.0  5.689655   1.099138       720.0  3.103448     37.66   \n",
       "1  2.8106      26.0  4.110672   1.106719      2096.0  4.142292     33.82   \n",
       "2  2.2375      24.0  4.381737   1.053892      2005.0  3.001497     32.73   \n",
       "3  4.2798      14.0  3.994521   1.158904       615.0  1.684932     33.76   \n",
       "4  3.6250      36.0  5.108527   1.093023       812.0  2.098191     33.17   \n",
       "\n",
       "   Longitude  \n",
       "0    -120.91  \n",
       "1    -118.30  \n",
       "2    -117.10  \n",
       "3    -117.84  \n",
       "4    -117.35  "
      ]
     },
     "execution_count": 25,
     "metadata": {},
     "output_type": "execute_result"
    }
   ],
   "source": [
    "df_test.head()"
   ]
  },
  {
   "cell_type": "code",
   "execution_count": 26,
   "metadata": {},
   "outputs": [
    {
     "name": "stdout",
     "output_type": "stream",
     "text": [
      "Mean squared error of MLP model: 0.3887397328382385\n"
     ]
    }
   ],
   "source": [
    "model_mse_error = compute_mse(mlp_pipeline.predict(df_test), y_test)\n",
    "\n",
    "print(f'Mean squared error of MLP model: {model_mse_error}')"
   ]
  },
  {
   "cell_type": "code",
   "execution_count": 27,
   "metadata": {},
   "outputs": [
    {
     "data": {
      "text/plain": [
       "0.7064839301641258"
      ]
     },
     "execution_count": 27,
     "metadata": {},
     "output_type": "execute_result"
    }
   ],
   "source": [
    "mlp_pipeline.score(df_test, y_test)"
   ]
  },
  {
   "cell_type": "code",
   "execution_count": 28,
   "metadata": {},
   "outputs": [],
   "source": [
    "from sklearn.inspection import permutation_importance\n",
    "result = permutation_importance(estimator=mlp_pipeline,\n",
    "                                X=df_test,\n",
    "                                y=y_test,\n",
    "                                n_repeats=30)"
   ]
  },
  {
   "cell_type": "code",
   "execution_count": 30,
   "metadata": {},
   "outputs": [
    {
     "data": {
      "text/plain": [
       "dict_keys(['importances_mean', 'importances_std', 'importances'])"
      ]
     },
     "execution_count": 30,
     "metadata": {},
     "output_type": "execute_result"
    }
   ],
   "source": [
    "result.keys()"
   ]
  },
  {
   "cell_type": "code",
   "execution_count": 31,
   "metadata": {},
   "outputs": [
    {
     "data": {
      "text/plain": [
       "array([6.72956351e-01, 4.45958788e-02, 1.65444744e-03, 3.12359912e-03,\n",
       "       2.12978553e-03, 3.26056953e-03, 1.84197387e+00, 1.75774099e+00])"
      ]
     },
     "execution_count": 31,
     "metadata": {},
     "output_type": "execute_result"
    }
   ],
   "source": [
    "result.importances_mean"
   ]
  },
  {
   "cell_type": "code",
   "execution_count": 35,
   "metadata": {},
   "outputs": [
    {
     "name": "stdout",
     "output_type": "stream",
     "text": [
      "Latitude: \t1.842 +/- 0.033\n",
      "Longitude: \t1.758 +/- 0.024\n",
      "MedInc: \t0.673 +/- 0.014\n",
      "HouseAge: \t0.045 +/- 0.003\n",
      "AveOccup: \t0.003 +/- 0.001\n",
      "AveBedrms: \t0.003 +/- 0.001\n",
      "Population: \t0.002 +/- 0.001\n",
      "AveRooms: \t0.002 +/- 0.001\n"
     ]
    }
   ],
   "source": [
    "for i in result.importances_mean.argsort()[::-1]:\n",
    "    print(f'{cal_features[i]}: \\t'\n",
    "          f'{result.importances_mean[i]:.3f} +/- {result.importances_std[i]:.3f}')"
   ]
  },
  {
   "cell_type": "markdown",
   "metadata": {},
   "source": [
    "Copyright 2022 Google Inc. Licensed under the Apache License, Version 2.0 (the \"License\"); you may not use this file except in compliance with the License. You may obtain a copy of the License at http://www.apache.org/licenses/LICENSE-2.0 Unless required by applicable law or agreed to in writing, software distributed under the License is distributed on an \"AS IS\" BASIS, WITHOUT WARRANTIES OR CONDITIONS OF ANY KIND, either express or implied. See the License for the specific language governing permissions and limitations under the License"
   ]
  }
 ],
 "metadata": {
  "colab": {
   "name": "XAI_permuation_feature_importance.ipynb",
   "provenance": []
  },
  "environment": {
   "name": "tf2-gpu.2-3.m71",
   "type": "gcloud",
   "uri": "gcr.io/deeplearning-platform-release/tf2-gpu.2-3:m71"
  },
  "kernelspec": {
   "display_name": "Python 3",
   "language": "python",
   "name": "python3"
  },
  "language_info": {
   "codemirror_mode": {
    "name": "ipython",
    "version": 3
   },
   "file_extension": ".py",
   "mimetype": "text/x-python",
   "name": "python",
   "nbconvert_exporter": "python",
   "pygments_lexer": "ipython3",
   "version": "3.7.10"
  }
 },
 "nbformat": 4,
 "nbformat_minor": 4
}
